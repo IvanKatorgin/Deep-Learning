{
  "nbformat": 4,
  "nbformat_minor": 0,
  "metadata": {
    "colab": {
      "provenance": [],
      "authorship_tag": "ABX9TyMNTxfU111Uxoq6H7XGoSJs",
      "include_colab_link": true
    },
    "kernelspec": {
      "name": "python3",
      "display_name": "Python 3"
    },
    "language_info": {
      "name": "python"
    }
  },
  "cells": [
    {
      "cell_type": "markdown",
      "metadata": {
        "id": "view-in-github",
        "colab_type": "text"
      },
      "source": [
        "<a href=\"https://colab.research.google.com/github/IvanKatorgin/Deep-Learning/blob/main/Deep_Learning_%D0%B4%D0%BE%D0%BC%D0%B0%D1%88%D0%BD%D0%B5%D0%B5_%D0%B7%D0%B0%D0%B4%D0%B0%D0%BD%D0%B8%D0%B5_6.ipynb\" target=\"_parent\"><img src=\"https://colab.research.google.com/assets/colab-badge.svg\" alt=\"Open In Colab\"/></a>"
      ]
    },
    {
      "cell_type": "markdown",
      "source": [
        "Курс \"Deep Learning\". Домашнее задание 6. Рекуррентные сети. Каторгин И.П."
      ],
      "metadata": {
        "id": "R8A63kKsYf59"
      }
    },
    {
      "cell_type": "markdown",
      "source": [
        "## Задание\n",
        "\n",
        "Задание 1. Обучите нейронную сеть решать шифр Цезаря.\n",
        "\n",
        "Что необходимо сделать:\n",
        "- Написать алгоритм шифра Цезаря для генерации выборки (сдвиг на К каждой буквы. Например, при сдвиге на 2 буква “А” переходит в букву “В” и тп)\n",
        "- Сделать нейронную сеть\n",
        "- Обучить ее (вход - зашифрованная фраза, выход - дешифрованная фраза)\n",
        "- Проверить качество\n",
        "\n",
        "Задание 2. Выполнить практическую работу из лекционного ноутбука.\n",
        "- Построить RNN-ячейку на основе полносвязных слоев\n",
        "- Применить построенную ячейку для генерации текста с выражениями героев сериала “Симпсоны”"
      ],
      "metadata": {
        "id": "hw4nWUHsYyj2"
      }
    },
    {
      "cell_type": "markdown",
      "source": [
        "## Задание 1. Обучите нейронную сеть решать шифр Цезаря"
      ],
      "metadata": {
        "id": "6pPwNE99jaoC"
      }
    },
    {
      "cell_type": "markdown",
      "source": [
        "Написать алгоритм шифра Цезаря для генерации выборки (сдвиг на К каждой буквы. Например, при сдвиге на 2 буква “А” переходит в букву “В” и тп)"
      ],
      "metadata": {
        "id": "SX-fyQyVjhfn"
      }
    },
    {
      "cell_type": "code",
      "execution_count": null,
      "metadata": {
        "id": "ifDi8rfoYD1Q"
      },
      "outputs": [],
      "source": [
        "# загрузим библиотеки\n",
        "import numpy as np, pandas as pd, matplotlib.pyplot as plt, seaborn as sns, time, torch, random\n",
        "from torch.utils.data import TensorDataset, DataLoader\n",
        "import warnings\n",
        "warnings.filterwarnings('ignore')\n",
        "%matplotlib inline"
      ]
    },
    {
      "cell_type": "code",
      "source": [
        "# функция шифрования по алгоритму Цезаря\n",
        "def caesar_cipher(text, shift, language='russian'):\n",
        "  # определяем алфавиты для каждого языка\n",
        "    if language == 'russian':\n",
        "        alphabet_upper = 'АБВГДЕЁЖЗИЙКЛМНОПРСТУФХЦЧШЩЪЫЬЭЮЯ'\n",
        "        alphabet_lower = 'абвгдеёжзийклмнопрстуфхцчшщъыьэюя'\n",
        "    elif language == 'english':\n",
        "        alphabet_upper = 'ABCDEFGHIJKLMNOPQRSTUVWXYZ'\n",
        "        alphabet_lower = 'abcdefghijklmnopqrstuvwxyz'\n",
        "    else:\n",
        "        raise ValueError('Unsupported language')\n",
        "\n",
        "    result = []\n",
        "    for char in text:\n",
        "        if char in alphabet_upper:\n",
        "            # Для заглавных букв\n",
        "            index = (alphabet_upper.index(char) + shift) % len(alphabet_upper)\n",
        "            result.append(alphabet_upper[index])\n",
        "        elif char in alphabet_lower:\n",
        "            # Для строчных букв\n",
        "            index = (alphabet_lower.index(char) + shift) % len(alphabet_lower)\n",
        "            result.append(alphabet_lower[index])\n",
        "        else:\n",
        "            # Не буквы оставляем как есть\n",
        "            result.append(char)\n",
        "    return ''.join(result)"
      ],
      "metadata": {
        "id": "edBX2MluZXNV"
      },
      "execution_count": null,
      "outputs": []
    },
    {
      "cell_type": "code",
      "source": [
        "# Пример использования:\n",
        "text = \"Привет, мир!\"\n",
        "shift = 3\n",
        "encrypted = caesar_cipher(text, shift)\n",
        "print(encrypted)"
      ],
      "metadata": {
        "colab": {
          "base_uri": "https://localhost:8080/"
        },
        "id": "N6JIO9d0g_m6",
        "outputId": "1662631f-6c89-4396-9dce-07b49cee44d7"
      },
      "execution_count": null,
      "outputs": [
        {
          "output_type": "stream",
          "name": "stdout",
          "text": [
            "Тулезх, плу!\n"
          ]
        }
      ]
    },
    {
      "cell_type": "code",
      "source": [
        "# Вернем обратно:\n",
        "text = \"Тулезх, плу!\"\n",
        "shift = -3\n",
        "encrypted = caesar_cipher(text, shift)\n",
        "print(encrypted)"
      ],
      "metadata": {
        "colab": {
          "base_uri": "https://localhost:8080/"
        },
        "id": "g703qYvLhDTO",
        "outputId": "37f12fa1-900f-4c44-9712-206754bc637d"
      },
      "execution_count": null,
      "outputs": [
        {
          "output_type": "stream",
          "name": "stdout",
          "text": [
            "Привет, мир!\n"
          ]
        }
      ]
    },
    {
      "cell_type": "code",
      "source": [
        "# Пример использования:\n",
        "text = \"Привет, мир!\"\n",
        "shift = 1\n",
        "encrypted = caesar_cipher(text, shift)\n",
        "print(encrypted)"
      ],
      "metadata": {
        "colab": {
          "base_uri": "https://localhost:8080/"
        },
        "outputId": "892d0180-9fb0-439c-922e-c2cb0d0d3e73",
        "id": "sMEW8UV5nDPT"
      },
      "execution_count": null,
      "outputs": [
        {
          "output_type": "stream",
          "name": "stdout",
          "text": [
            "Рсйгёу, нйс!\n"
          ]
        }
      ]
    },
    {
      "cell_type": "code",
      "source": [
        "# Вернем обратно:\n",
        "text = \"Рсйгёу, нйс!\"\n",
        "shift = -1\n",
        "encrypted = caesar_cipher(text, shift)\n",
        "print(encrypted)"
      ],
      "metadata": {
        "colab": {
          "base_uri": "https://localhost:8080/"
        },
        "outputId": "ffefdd9f-9800-469b-9bf8-6395f42c5f5c",
        "id": "mskuxK4qnDPU"
      },
      "execution_count": null,
      "outputs": [
        {
          "output_type": "stream",
          "name": "stdout",
          "text": [
            "Привет, мир!\n"
          ]
        }
      ]
    },
    {
      "cell_type": "code",
      "source": [
        "# Пример использования на английском:\n",
        "text_en = \"Hello, World!\"\n",
        "shift_en = 5\n",
        "encrypted_en = caesar_cipher(text_en, shift_en, language='english')\n",
        "print(encrypted_en)"
      ],
      "metadata": {
        "colab": {
          "base_uri": "https://localhost:8080/"
        },
        "id": "SRQuBXAjiID7",
        "outputId": "9777d536-21ca-4531-f328-fd1f98f314be"
      },
      "execution_count": null,
      "outputs": [
        {
          "output_type": "stream",
          "name": "stdout",
          "text": [
            "Mjqqt, Btwqi!\n"
          ]
        }
      ]
    },
    {
      "cell_type": "code",
      "source": [
        "text_en = \"Mjqqt, Btwqi!\"\n",
        "shift_en = -5\n",
        "encrypted_en = caesar_cipher(text_en, shift_en, language='english')\n",
        "print(encrypted_en)"
      ],
      "metadata": {
        "colab": {
          "base_uri": "https://localhost:8080/"
        },
        "id": "WEhnjIzsjQkW",
        "outputId": "57e2a618-30f3-4719-a1fc-26f81bb7728e"
      },
      "execution_count": null,
      "outputs": [
        {
          "output_type": "stream",
          "name": "stdout",
          "text": [
            "Hello, World!\n"
          ]
        }
      ]
    },
    {
      "cell_type": "markdown",
      "source": [
        "Все работает корректно"
      ],
      "metadata": {
        "id": "hHM36XsOnLbh"
      }
    },
    {
      "cell_type": "markdown",
      "source": [
        "Сделать нейронную сеть"
      ],
      "metadata": {
        "id": "68sWiicvjkzC"
      }
    },
    {
      "cell_type": "markdown",
      "metadata": {
        "id": "I4Z8NwVSI_hu"
      },
      "source": [
        "Создаём массив с данными"
      ]
    },
    {
      "cell_type": "code",
      "execution_count": null,
      "metadata": {
        "ExecuteTime": {
          "end_time": "2020-03-12T15:12:53.641351Z",
          "start_time": "2020-03-12T15:12:53.636757Z"
        },
        "id": "p_gnhdwOI_hu"
      },
      "outputs": [],
      "source": [
        "CHIHERS = set('АБВГДЕЁЖЗИЙКЛМНОПРСТУФХЦЧШЩЪЫЬЭЮЯабвгдеёжзийклмнопрстуфхцчшщъыьэюяABCDEFGHIJKLMNOPQRSTUVWXYZabcdefghijklmnopqrstuvwxyz ')  # все символы, которые мы хотим использовать для кодировки = наш словарь\n",
        "INDEX_TO_CHIHER = ['none'] + list(CHIHERS)  # все неизвестные символы будут получать тег none\n",
        "CHIHER_TO_INDEX = {w: i for i, w in enumerate(INDEX_TO_CHIHER)}  # словарь токен-индекс"
      ]
    },
    {
      "cell_type": "code",
      "source": [
        "len(INDEX_TO_CHIHER)"
      ],
      "metadata": {
        "colab": {
          "base_uri": "https://localhost:8080/"
        },
        "outputId": "a09cac7c-019c-4da9-e9ff-4507f66333d0",
        "id": "fDZzsKUnI_hu"
      },
      "execution_count": null,
      "outputs": [
        {
          "output_type": "execute_result",
          "data": {
            "text/plain": [
              "120"
            ]
          },
          "metadata": {},
          "execution_count": 107
        }
      ]
    },
    {
      "cell_type": "code",
      "source": [
        "# Генерация случайных текстов для обучения\n",
        "def generate_texts(num_samples=10000, max_len=70):\n",
        "    texts = []\n",
        "    for _ in range(num_samples):\n",
        "        length = random.randint(10, max_len)\n",
        "        text = ''.join(random.choice(list(CHIHERS)) for _ in range(length))\n",
        "        texts.append(text)\n",
        "    return texts\n",
        "\n",
        "texts = generate_texts()  # 10000 случайных текстов"
      ],
      "metadata": {
        "id": "TjFiekEXN0Vp"
      },
      "execution_count": null,
      "outputs": []
    },
    {
      "cell_type": "code",
      "source": [
        "# отобразим последние 10 сгенерырованных текстов\n",
        "texts[-10:]"
      ],
      "metadata": {
        "colab": {
          "base_uri": "https://localhost:8080/"
        },
        "id": "RmF2T_qeOOdd",
        "outputId": "f9572f46-7ba5-4b52-c112-6eb6e756a897"
      },
      "execution_count": null,
      "outputs": [
        {
          "output_type": "execute_result",
          "data": {
            "text/plain": [
              "['YfXЪёЪsTDJKВЩqуXлZgAЭDAК',\n",
              " 'qйЧяДШИvWГйэНVэtыpQФblгDГЮмQЕИВlТИL',\n",
              " 'ТpющkкмЁPбЪtСИQWsJtEюУzTFбъПvwАЪnA',\n",
              " 'ГШKТчщpRMЦXщАbdШBOШnЭйУпрBYУDmМАUЙФкЬFмpСно',\n",
              " 'aЪфыОkЖэмL цДИCРxbнD',\n",
              " 'мсБЙшYцcРNДЕкfЭЮwWеdSЦХЁIKWпАчШцоBaTIiлмtТуFaDукiЗПНuF',\n",
              " 'cYJdi ТтHъОmbуnдцРoцКfЮяcНЯ ъЫбхПZXVmъFХсЕИPхЕгьe',\n",
              " 'лfуVЖчцVеBнnrпtЗхMъhfТюеИПСРVфYppKцeаУQyfЧEAЭsxШЗ',\n",
              " 'йОЭЙRЩГЬqAвцнHUEHНoЬМVъЯl',\n",
              " 'зшDёУFдтКуxИФЦжЧзэЙшьgKвмГЫEMbHМэцЧОвтG ьUkGюзеLЮТУЁmйUРDЙqЯwd']"
            ]
          },
          "metadata": {},
          "execution_count": 109
        }
      ]
    },
    {
      "cell_type": "markdown",
      "source": [
        "Подготовка X и Y"
      ],
      "metadata": {
        "id": "wrCRajYIOXMl"
      }
    },
    {
      "cell_type": "code",
      "execution_count": null,
      "metadata": {
        "ExecuteTime": {
          "end_time": "2020-03-12T15:13:58.918002Z",
          "start_time": "2020-03-12T15:13:55.602551Z"
        },
        "id": "Y2QxzMaeJ2lx"
      },
      "outputs": [],
      "source": [
        "MAX_LEN = 70  # мы хотим ограничить максимальную длину ввода\n",
        "X = torch.zeros((len(texts), MAX_LEN), dtype=torch.long)  # создаём пустой вектор для текста, чтобы класть в него индексы токенов\n",
        "\n",
        "for i, text in enumerate(texts):  # для каждого предложения\n",
        "    for j, char in enumerate(text[:MAX_LEN]):  # для каждого токена\n",
        "        X[i, j] = CHIHER_TO_INDEX.get(char, CHIHER_TO_INDEX['none'])"
      ]
    },
    {
      "cell_type": "code",
      "source": [
        "# Y — это X, но сдвинутый на 1 (предсказываем следующую букву)\n",
        "Y = X[:, 1:].clone()\n",
        "X = X[:, :-1]"
      ],
      "metadata": {
        "id": "7mH2MsxTOb2Q"
      },
      "execution_count": null,
      "outputs": []
    },
    {
      "cell_type": "markdown",
      "source": [
        "Создадим DataLoader"
      ],
      "metadata": {
        "id": "iLO8dPGuPtMD"
      }
    },
    {
      "cell_type": "code",
      "source": [
        "dataset = TensorDataset(X, Y)\n",
        "dataloader = DataLoader(dataset, batch_size=100, shuffle=True)"
      ],
      "metadata": {
        "id": "wjP4oU-_PsKr"
      },
      "execution_count": null,
      "outputs": []
    },
    {
      "cell_type": "markdown",
      "metadata": {
        "id": "MzxUN963KPZn"
      },
      "source": [
        "Реализация сети с RNN"
      ]
    },
    {
      "cell_type": "code",
      "source": [
        "class Network(torch.nn.Module):\n",
        "    def __init__(self):\n",
        "        super(Network, self).__init__()\n",
        "        self.embedding = torch.nn.Embedding(len(INDEX_TO_CHIHER), 30)\n",
        "        self.rnn = torch.nn.RNN(30, 128, batch_first=True)\n",
        "        self.out = torch.nn.Linear(128, len(INDEX_TO_CHIHER))\n",
        "\n",
        "    def forward(self, x):\n",
        "        x = self.embedding(x)\n",
        "        x, _ = self.rnn(x) # берём выход с последнего слоя для всех токенов, а не скрытое состояние\n",
        "        return self.out(x)"
      ],
      "metadata": {
        "id": "dDr3HDiWQNmM"
      },
      "execution_count": null,
      "outputs": []
    },
    {
      "cell_type": "code",
      "execution_count": null,
      "metadata": {
        "ExecuteTime": {
          "end_time": "2020-03-12T15:20:53.260599Z",
          "start_time": "2020-03-12T15:20:53.256979Z"
        },
        "id": "Ueogue6JKPZo"
      },
      "outputs": [],
      "source": [
        "model = Network()"
      ]
    },
    {
      "cell_type": "code",
      "execution_count": null,
      "metadata": {
        "ExecuteTime": {
          "end_time": "2020-03-12T15:21:01.929404Z",
          "start_time": "2020-03-12T15:21:01.925999Z"
        },
        "id": "fBNtZfryKPZo"
      },
      "outputs": [],
      "source": [
        "criterion = torch.nn.CrossEntropyLoss()  # типичный лосс многоклассовой классификации\n",
        "optimizer = torch.optim.SGD(model.parameters(), lr=.05)"
      ]
    },
    {
      "cell_type": "markdown",
      "source": [
        "Обучить ее (вход - зашифрованная фраза, выход - дешифрованная фраза)"
      ],
      "metadata": {
        "id": "tIYjldWojsts"
      }
    },
    {
      "cell_type": "code",
      "execution_count": null,
      "metadata": {
        "ExecuteTime": {
          "end_time": "2020-03-12T15:22:04.410583Z",
          "start_time": "2020-03-12T15:21:34.734119Z"
        },
        "scrolled": true,
        "colab": {
          "base_uri": "https://localhost:8080/",
          "height": 1000
        },
        "outputId": "61769711-c16e-4929-ffe8-38b83a51bc49",
        "id": "cArUHAyfKPZo"
      },
      "outputs": [
        {
          "output_type": "stream",
          "name": "stdout",
          "text": [
            "Epoch 0. Time: 5.059, Train loss: 2.871\n",
            "Epoch 1. Time: 5.438, Train loss: 2.771\n",
            "Epoch 2. Time: 5.626, Train loss: 2.768\n",
            "Epoch 3. Time: 5.035, Train loss: 2.766\n",
            "Epoch 4. Time: 6.931, Train loss: 2.764\n",
            "Epoch 5. Time: 5.050, Train loss: 2.763\n",
            "Epoch 6. Time: 5.980, Train loss: 2.762\n",
            "Epoch 7. Time: 5.052, Train loss: 2.761\n",
            "Epoch 8. Time: 5.974, Train loss: 2.760\n",
            "Epoch 9. Time: 5.490, Train loss: 2.759\n",
            "Epoch 10. Time: 5.873, Train loss: 2.758\n",
            "Epoch 11. Time: 6.487, Train loss: 2.758\n",
            "Epoch 12. Time: 5.838, Train loss: 2.757\n",
            "Epoch 13. Time: 5.729, Train loss: 2.756\n",
            "Epoch 14. Time: 5.047, Train loss: 2.755\n",
            "Epoch 15. Time: 5.938, Train loss: 2.754\n",
            "Epoch 16. Time: 5.040, Train loss: 2.752\n",
            "Epoch 17. Time: 6.207, Train loss: 2.752\n",
            "Epoch 18. Time: 5.680, Train loss: 2.751\n",
            "Epoch 19. Time: 6.134, Train loss: 2.751\n",
            "Epoch 20. Time: 5.038, Train loss: 2.750\n",
            "Epoch 21. Time: 5.074, Train loss: 2.750\n",
            "Epoch 22. Time: 5.893, Train loss: 2.749\n",
            "Epoch 23. Time: 5.121, Train loss: 2.749\n",
            "Epoch 24. Time: 5.936, Train loss: 2.749\n",
            "Epoch 25. Time: 5.233, Train loss: 2.748\n",
            "Epoch 26. Time: 5.907, Train loss: 2.748\n",
            "Epoch 27. Time: 5.016, Train loss: 2.748\n",
            "Epoch 28. Time: 5.311, Train loss: 2.748\n",
            "Epoch 29. Time: 5.637, Train loss: 2.748\n"
          ]
        },
        {
          "output_type": "display_data",
          "data": {
            "text/plain": [
              "<Figure size 1000x500 with 1 Axes>"
            ],
            "image/png": "[encoded data removed]"
          },
          "metadata": {}
        }
      ],
      "source": [
        "# Обучение и визуализация\n",
        "\n",
        "train_losses = []\n",
        "\n",
        "for epoch in range(30):\n",
        "    start = time.time()\n",
        "    epoch_loss = 0.0\n",
        "    train_passed = 0\n",
        "\n",
        "    for batch_X, batch_Y in dataloader:\n",
        "        optimizer.zero_grad()\n",
        "        outputs = model(batch_X)\n",
        "        loss = criterion(outputs.view(-1, len(INDEX_TO_CHIHER)), batch_Y.view(-1))\n",
        "        loss.backward()\n",
        "        optimizer.step()\n",
        "\n",
        "        epoch_loss += loss.item()\n",
        "        train_passed += 1\n",
        "\n",
        "    avg_loss = epoch_loss / train_passed\n",
        "    train_losses.append(avg_loss)\n",
        "    print(f\"Epoch {epoch}. Time: {time.time() - start:.3f}, Train loss: {avg_loss:.3f}\")\n",
        "\n",
        "# Визуализация графика\n",
        "plt.figure(figsize=(10, 5))\n",
        "plt.plot(train_losses, label='Training Loss', marker='o')\n",
        "plt.title('Обучение модели: График потерь')\n",
        "plt.xlabel('Эпохи')\n",
        "plt.ylabel('Loss')\n",
        "plt.legend()\n",
        "plt.grid(True)\n",
        "plt.show()"
      ]
    },
    {
      "cell_type": "markdown",
      "source": [
        "Проверить качество"
      ],
      "metadata": {
        "id": "IAMwwQCcjuQN"
      }
    },
    {
      "cell_type": "code",
      "source": [
        "def calculate_accuracy(model, dataloader):\n",
        "    correct = 0\n",
        "    total = 0\n",
        "    model.eval()\n",
        "    with torch.no_grad():\n",
        "        for batch_X, batch_Y in dataloader:\n",
        "            outputs = model(batch_X)\n",
        "            predicted = torch.argmax(outputs, dim=-1)\n",
        "            correct += (predicted == batch_Y).sum().item()\n",
        "            total += batch_Y.numel()\n",
        "    return correct / total"
      ],
      "metadata": {
        "id": "gyzUir-vmoIz"
      },
      "execution_count": null,
      "outputs": []
    },
    {
      "cell_type": "code",
      "source": [
        "calculate_accuracy(model, dataloader)"
      ],
      "metadata": {
        "colab": {
          "base_uri": "https://localhost:8080/"
        },
        "id": "4U9R2Y07abZg",
        "outputId": "17ddcd97-8d1f-4cc5-b462-722f93010350"
      },
      "execution_count": null,
      "outputs": [
        {
          "output_type": "execute_result",
          "data": {
            "text/plain": [
              "0.4391086956521739"
            ]
          },
          "metadata": {},
          "execution_count": 118
        }
      ]
    },
    {
      "cell_type": "markdown",
      "source": [
        "Accuracy не самый лучший. 0,439 - это очень мало"
      ],
      "metadata": {
        "id": "Q9UhEgcfoCyc"
      }
    },
    {
      "cell_type": "markdown",
      "source": [
        "Проверим модель. Подадим текст и дешифрируем его"
      ],
      "metadata": {
        "id": "-ySZKryzVdd0"
      }
    },
    {
      "cell_type": "code",
      "source": [
        "def decrypt_text(model, encrypted_text, max_len=70):\n",
        "    # Преобразуем текст в индексы\n",
        "    x = torch.zeros((1, max_len), dtype=torch.long)\n",
        "    for j, char in enumerate(encrypted_text[:max_len]):\n",
        "        x[0, j] = CHIHER_TO_INDEX.get(char, CHIHER_TO_INDEX['none'])\n",
        "\n",
        "    # Предсказываем следующий символ для каждого положения\n",
        "    model.eval()\n",
        "    with torch.no_grad():\n",
        "        outputs = model(x)\n",
        "        predicted_indices = torch.argmax(outputs, dim=-1).squeeze().tolist()\n",
        "\n",
        "    # Преобразуем индексы обратно в текст\n",
        "    decrypted_text = []\n",
        "    for idx in predicted_indices:\n",
        "        if idx < len(INDEX_TO_CHIHER):\n",
        "            decrypted_text.append(INDEX_TO_CHIHER[idx])\n",
        "        else:\n",
        "            decrypted_text.append('?')  # Неизвестный символ\n",
        "    return ''.join(decrypted_text).replace('none', '')"
      ],
      "metadata": {
        "id": "7-Pry5fljxwP"
      },
      "execution_count": null,
      "outputs": []
    },
    {
      "cell_type": "code",
      "source": [
        "# Тестируем на зашифрованном тексте\n",
        "encrypted_text = \"Тулезх, плу!\"  # \"Привет, мир!\" с shift=3\n",
        "decrypted_text = decrypt_text(model, encrypted_text)\n",
        "print(f\"Зашифрованный текст: {encrypted_text}\")\n",
        "print(f\"Дешифрованный текст: {decrypted_text}\")"
      ],
      "metadata": {
        "colab": {
          "base_uri": "https://localhost:8080/"
        },
        "id": "5C9et6ZYj10h",
        "outputId": "7e1ab6ce-3104-4c58-ea5d-61120fe324a2"
      },
      "execution_count": null,
      "outputs": [
        {
          "output_type": "stream",
          "name": "stdout",
          "text": [
            "Зашифрованный текст: Тулезх, плу!\n",
            "Дешифрованный текст: Y\n"
          ]
        }
      ]
    },
    {
      "cell_type": "code",
      "source": [
        "# Тестируем на зашифрованном тексте\n",
        "encrypted_text = \"Рсйгёу, нйс!\"  # \"Привет, мир!\" с shift=1\n",
        "decrypted_text = decrypt_text(model, encrypted_text)\n",
        "print(f\"Зашифрованный текст: {encrypted_text}\")\n",
        "print(f\"Дешифрованный текст: {decrypted_text}\")"
      ],
      "metadata": {
        "colab": {
          "base_uri": "https://localhost:8080/"
        },
        "id": "Mz5fasQinjiY",
        "outputId": "3c956891-2847-4757-b279-10e8d28b9797"
      },
      "execution_count": null,
      "outputs": [
        {
          "output_type": "stream",
          "name": "stdout",
          "text": [
            "Зашифрованный текст: Рсйгёу, нйс!\n",
            "Дешифрованный текст: Omдimр\n"
          ]
        }
      ]
    },
    {
      "cell_type": "markdown",
      "source": [
        "Дешифрирует не очень. Постоянно ошибается. Нужно нейросеть улучшать и обучать дальше. В текущем виде модель для дальнейшего использования не подходит"
      ],
      "metadata": {
        "id": "r3j0HIldWK_-"
      }
    },
    {
      "cell_type": "markdown",
      "source": [
        "## Задание 2. Выполнить практическую работу из лекционного ноутбука"
      ],
      "metadata": {
        "id": "UATuBcQ1j2NZ"
      }
    },
    {
      "cell_type": "markdown",
      "source": [
        "- Построить RNN-ячейку на основе полносвязных слоев\n",
        "- Применить построенную ячейку для генерации текста с выражениями героев сериала “Симпсоны”"
      ],
      "metadata": {
        "id": "BP7-X_cYkBbc"
      }
    },
    {
      "cell_type": "code",
      "execution_count": null,
      "metadata": {
        "ExecuteTime": {
          "end_time": "2020-03-12T15:12:00.685533Z",
          "start_time": "2020-03-12T15:12:00.591616Z"
        },
        "colab": {
          "base_uri": "https://localhost:8080/",
          "height": 642
        },
        "id": "duHW4TnGm1ob",
        "outputId": "db8ba723-c7c8-4845-e422-64cb9227cbf2"
      },
      "outputs": [
        {
          "output_type": "execute_result",
          "data": {
            "text/plain": [
              "     id  episode_id  number  \\\n",
              "0  9549          32     209   \n",
              "1  9550          32     210   \n",
              "2  9551          32     211   \n",
              "3  9552          32     212   \n",
              "4  9553          32     213   \n",
              "\n",
              "                                            raw_text timestamp_in_ms  \\\n",
              "0  Miss Hoover: No, actually, it was a little of ...          848000   \n",
              "1  Lisa Simpson: (NEAR TEARS) Where's Mr. Bergstrom?          856000   \n",
              "2  Miss Hoover: I don't know. Although I'd sure l...          856000   \n",
              "3           Lisa Simpson: That life is worth living.          864000   \n",
              "4  Edna Krabappel-Flanders: The polls will be ope...          864000   \n",
              "\n",
              "  speaking_line character_id  location_id       raw_character_text  \\\n",
              "0          True        464.0          3.0              Miss Hoover   \n",
              "1          True          9.0          3.0             Lisa Simpson   \n",
              "2          True        464.0          3.0              Miss Hoover   \n",
              "3          True          9.0          3.0             Lisa Simpson   \n",
              "4          True         40.0          3.0  Edna Krabappel-Flanders   \n",
              "\n",
              "               raw_location_text  \\\n",
              "0  Springfield Elementary School   \n",
              "1  Springfield Elementary School   \n",
              "2  Springfield Elementary School   \n",
              "3  Springfield Elementary School   \n",
              "4  Springfield Elementary School   \n",
              "\n",
              "                                        spoken_words  \\\n",
              "0  No, actually, it was a little of both. Sometim...   \n",
              "1                             Where's Mr. Bergstrom?   \n",
              "2  I don't know. Although I'd sure like to talk t...   \n",
              "3                         That life is worth living.   \n",
              "4  The polls will be open from now until the end ...   \n",
              "\n",
              "                                     normalized_text word_count  \n",
              "0  no actually it was a little of both sometimes ...         31  \n",
              "1                                wheres mr bergstrom          3  \n",
              "2  i dont know although id sure like to talk to h...         22  \n",
              "3                          that life is worth living          5  \n",
              "4  the polls will be open from now until the end ...         33  "
            ],
            "text/html": [
              "\n",
              "  <div id=\"df-efee7447-1e31-42c3-a5d5-71140d079665\" class=\"colab-df-container\">\n",
              "    <div>\n",
              "<style scoped>\n",
              "    .dataframe tbody tr th:only-of-type {\n",
              "        vertical-align: middle;\n",
              "    }\n",
              "\n",
              "    .dataframe tbody tr th {\n",
              "        vertical-align: top;\n",
              "    }\n",
              "\n",
              "    .dataframe thead th {\n",
              "        text-align: right;\n",
              "    }\n",
              "</style>\n",
              "<table border=\"1\" class=\"dataframe\">\n",
              "  <thead>\n",
              "    <tr style=\"text-align: right;\">\n",
              "      <th></th>\n",
              "      <th>id</th>\n",
              "      <th>episode_id</th>\n",
              "      <th>number</th>\n",
              "      <th>raw_text</th>\n",
              "      <th>timestamp_in_ms</th>\n",
              "      <th>speaking_line</th>\n",
              "      <th>character_id</th>\n",
              "      <th>location_id</th>\n",
              "      <th>raw_character_text</th>\n",
              "      <th>raw_location_text</th>\n",
              "      <th>spoken_words</th>\n",
              "      <th>normalized_text</th>\n",
              "      <th>word_count</th>\n",
              "    </tr>\n",
              "  </thead>\n",
              "  <tbody>\n",
              "    <tr>\n",
              "      <th>0</th>\n",
              "      <td>9549</td>\n",
              "      <td>32</td>\n",
              "      <td>209</td>\n",
              "      <td>Miss Hoover: No, actually, it was a little of ...</td>\n",
              "      <td>848000</td>\n",
              "      <td>True</td>\n",
              "      <td>464.0</td>\n",
              "      <td>3.0</td>\n",
              "      <td>Miss Hoover</td>\n",
              "      <td>Springfield Elementary School</td>\n",
              "      <td>No, actually, it was a little of both. Sometim...</td>\n",
              "      <td>no actually it was a little of both sometimes ...</td>\n",
              "      <td>31</td>\n",
              "    </tr>\n",
              "    <tr>\n",
              "      <th>1</th>\n",
              "      <td>9550</td>\n",
              "      <td>32</td>\n",
              "      <td>210</td>\n",
              "      <td>Lisa Simpson: (NEAR TEARS) Where's Mr. Bergstrom?</td>\n",
              "      <td>856000</td>\n",
              "      <td>True</td>\n",
              "      <td>9.0</td>\n",
              "      <td>3.0</td>\n",
              "      <td>Lisa Simpson</td>\n",
              "      <td>Springfield Elementary School</td>\n",
              "      <td>Where's Mr. Bergstrom?</td>\n",
              "      <td>wheres mr bergstrom</td>\n",
              "      <td>3</td>\n",
              "    </tr>\n",
              "    <tr>\n",
              "      <th>2</th>\n",
              "      <td>9551</td>\n",
              "      <td>32</td>\n",
              "      <td>211</td>\n",
              "      <td>Miss Hoover: I don't know. Although I'd sure l...</td>\n",
              "      <td>856000</td>\n",
              "      <td>True</td>\n",
              "      <td>464.0</td>\n",
              "      <td>3.0</td>\n",
              "      <td>Miss Hoover</td>\n",
              "      <td>Springfield Elementary School</td>\n",
              "      <td>I don't know. Although I'd sure like to talk t...</td>\n",
              "      <td>i dont know although id sure like to talk to h...</td>\n",
              "      <td>22</td>\n",
              "    </tr>\n",
              "    <tr>\n",
              "      <th>3</th>\n",
              "      <td>9552</td>\n",
              "      <td>32</td>\n",
              "      <td>212</td>\n",
              "      <td>Lisa Simpson: That life is worth living.</td>\n",
              "      <td>864000</td>\n",
              "      <td>True</td>\n",
              "      <td>9.0</td>\n",
              "      <td>3.0</td>\n",
              "      <td>Lisa Simpson</td>\n",
              "      <td>Springfield Elementary School</td>\n",
              "      <td>That life is worth living.</td>\n",
              "      <td>that life is worth living</td>\n",
              "      <td>5</td>\n",
              "    </tr>\n",
              "    <tr>\n",
              "      <th>4</th>\n",
              "      <td>9553</td>\n",
              "      <td>32</td>\n",
              "      <td>213</td>\n",
              "      <td>Edna Krabappel-Flanders: The polls will be ope...</td>\n",
              "      <td>864000</td>\n",
              "      <td>True</td>\n",
              "      <td>40.0</td>\n",
              "      <td>3.0</td>\n",
              "      <td>Edna Krabappel-Flanders</td>\n",
              "      <td>Springfield Elementary School</td>\n",
              "      <td>The polls will be open from now until the end ...</td>\n",
              "      <td>the polls will be open from now until the end ...</td>\n",
              "      <td>33</td>\n",
              "    </tr>\n",
              "  </tbody>\n",
              "</table>\n",
              "</div>\n",
              "    <div class=\"colab-df-buttons\">\n",
              "\n",
              "  <div class=\"colab-df-container\">\n",
              "    <button class=\"colab-df-convert\" onclick=\"convertToInteractive('df-efee7447-1e31-42c3-a5d5-71140d079665')\"\n",
              "            title=\"Convert this dataframe to an interactive table.\"\n",
              "            style=\"display:none;\">\n",
              "\n",
              "  <svg xmlns=\"http://www.w3.org/2000/svg\" height=\"24px\" viewBox=\"0 -960 960 960\">\n",
              "    <path d=\"M120-120v-720h720v720H120Zm60-500h600v-160H180v160Zm220 220h160v-160H400v160Zm0 220h160v-160H400v160ZM180-400h160v-160H180v160Zm440 0h160v-160H620v160ZM180-180h160v-160H180v160Zm440 0h160v-160H620v160Z\"/>\n",
              "  </svg>\n",
              "    </button>\n",
              "\n",
              "  <style>\n",
              "    .colab-df-container {\n",
              "      display:flex;\n",
              "      gap: 12px;\n",
              "    }\n",
              "\n",
              "    .colab-df-convert {\n",
              "      background-color: #E8F0FE;\n",
              "      border: none;\n",
              "      border-radius: 50%;\n",
              "      cursor: pointer;\n",
              "      display: none;\n",
              "      fill: #1967D2;\n",
              "      height: 32px;\n",
              "      padding: 0 0 0 0;\n",
              "      width: 32px;\n",
              "    }\n",
              "\n",
              "    .colab-df-convert:hover {\n",
              "      background-color: #E2EBFA;\n",
              "      box-shadow: 0px 1px 2px rgba(60, 64, 67, 0.3), 0px 1px 3px 1px rgba(60, 64, 67, 0.15);\n",
              "      fill: #174EA6;\n",
              "    }\n",
              "\n",
              "    .colab-df-buttons div {\n",
              "      margin-bottom: 4px;\n",
              "    }\n",
              "\n",
              "    [theme=dark] .colab-df-convert {\n",
              "      background-color: #3B4455;\n",
              "      fill: #D2E3FC;\n",
              "    }\n",
              "\n",
              "    [theme=dark] .colab-df-convert:hover {\n",
              "      background-color: #434B5C;\n",
              "      box-shadow: 0px 1px 3px 1px rgba(0, 0, 0, 0.15);\n",
              "      filter: drop-shadow(0px 1px 2px rgba(0, 0, 0, 0.3));\n",
              "      fill: #FFFFFF;\n",
              "    }\n",
              "  </style>\n",
              "\n",
              "    <script>\n",
              "      const buttonEl =\n",
              "        document.querySelector('#df-efee7447-1e31-42c3-a5d5-71140d079665 button.colab-df-convert');\n",
              "      buttonEl.style.display =\n",
              "        google.colab.kernel.accessAllowed ? 'block' : 'none';\n",
              "\n",
              "      async function convertToInteractive(key) {\n",
              "        const element = document.querySelector('#df-efee7447-1e31-42c3-a5d5-71140d079665');\n",
              "        const dataTable =\n",
              "          await google.colab.kernel.invokeFunction('convertToInteractive',\n",
              "                                                    [key], {});\n",
              "        if (!dataTable) return;\n",
              "\n",
              "        const docLinkHtml = 'Like what you see? Visit the ' +\n",
              "          '<a target=\"_blank\" href=https://colab.research.google.com/notebooks/data_table.ipynb>data table notebook</a>'\n",
              "          + ' to learn more about interactive tables.';\n",
              "        element.innerHTML = '';\n",
              "        dataTable['output_type'] = 'display_data';\n",
              "        await google.colab.output.renderOutput(dataTable, element);\n",
              "        const docLink = document.createElement('div');\n",
              "        docLink.innerHTML = docLinkHtml;\n",
              "        element.appendChild(docLink);\n",
              "      }\n",
              "    </script>\n",
              "  </div>\n",
              "\n",
              "\n",
              "    <div id=\"df-dc630500-0f04-4e48-ba46-c5807475accd\">\n",
              "      <button class=\"colab-df-quickchart\" onclick=\"quickchart('df-dc630500-0f04-4e48-ba46-c5807475accd')\"\n",
              "                title=\"Suggest charts\"\n",
              "                style=\"display:none;\">\n",
              "\n",
              "<svg xmlns=\"http://www.w3.org/2000/svg\" height=\"24px\"viewBox=\"0 0 24 24\"\n",
              "     width=\"24px\">\n",
              "    <g>\n",
              "        <path d=\"M19 3H5c-1.1 0-2 .9-2 2v14c0 1.1.9 2 2 2h14c1.1 0 2-.9 2-2V5c0-1.1-.9-2-2-2zM9 17H7v-7h2v7zm4 0h-2V7h2v10zm4 0h-2v-4h2v4z\"/>\n",
              "    </g>\n",
              "</svg>\n",
              "      </button>\n",
              "\n",
              "<style>\n",
              "  .colab-df-quickchart {\n",
              "      --bg-color: #E8F0FE;\n",
              "      --fill-color: #1967D2;\n",
              "      --hover-bg-color: #E2EBFA;\n",
              "      --hover-fill-color: #174EA6;\n",
              "      --disabled-fill-color: #AAA;\n",
              "      --disabled-bg-color: #DDD;\n",
              "  }\n",
              "\n",
              "  [theme=dark] .colab-df-quickchart {\n",
              "      --bg-color: #3B4455;\n",
              "      --fill-color: #D2E3FC;\n",
              "      --hover-bg-color: #434B5C;\n",
              "      --hover-fill-color: #FFFFFF;\n",
              "      --disabled-bg-color: #3B4455;\n",
              "      --disabled-fill-color: #666;\n",
              "  }\n",
              "\n",
              "  .colab-df-quickchart {\n",
              "    background-color: var(--bg-color);\n",
              "    border: none;\n",
              "    border-radius: 50%;\n",
              "    cursor: pointer;\n",
              "    display: none;\n",
              "    fill: var(--fill-color);\n",
              "    height: 32px;\n",
              "    padding: 0;\n",
              "    width: 32px;\n",
              "  }\n",
              "\n",
              "  .colab-df-quickchart:hover {\n",
              "    background-color: var(--hover-bg-color);\n",
              "    box-shadow: 0 1px 2px rgba(60, 64, 67, 0.3), 0 1px 3px 1px rgba(60, 64, 67, 0.15);\n",
              "    fill: var(--button-hover-fill-color);\n",
              "  }\n",
              "\n",
              "  .colab-df-quickchart-complete:disabled,\n",
              "  .colab-df-quickchart-complete:disabled:hover {\n",
              "    background-color: var(--disabled-bg-color);\n",
              "    fill: var(--disabled-fill-color);\n",
              "    box-shadow: none;\n",
              "  }\n",
              "\n",
              "  .colab-df-spinner {\n",
              "    border: 2px solid var(--fill-color);\n",
              "    border-color: transparent;\n",
              "    border-bottom-color: var(--fill-color);\n",
              "    animation:\n",
              "      spin 1s steps(1) infinite;\n",
              "  }\n",
              "\n",
              "  @keyframes spin {\n",
              "    0% {\n",
              "      border-color: transparent;\n",
              "      border-bottom-color: var(--fill-color);\n",
              "      border-left-color: var(--fill-color);\n",
              "    }\n",
              "    20% {\n",
              "      border-color: transparent;\n",
              "      border-left-color: var(--fill-color);\n",
              "      border-top-color: var(--fill-color);\n",
              "    }\n",
              "    30% {\n",
              "      border-color: transparent;\n",
              "      border-left-color: var(--fill-color);\n",
              "      border-top-color: var(--fill-color);\n",
              "      border-right-color: var(--fill-color);\n",
              "    }\n",
              "    40% {\n",
              "      border-color: transparent;\n",
              "      border-right-color: var(--fill-color);\n",
              "      border-top-color: var(--fill-color);\n",
              "    }\n",
              "    60% {\n",
              "      border-color: transparent;\n",
              "      border-right-color: var(--fill-color);\n",
              "    }\n",
              "    80% {\n",
              "      border-color: transparent;\n",
              "      border-right-color: var(--fill-color);\n",
              "      border-bottom-color: var(--fill-color);\n",
              "    }\n",
              "    90% {\n",
              "      border-color: transparent;\n",
              "      border-bottom-color: var(--fill-color);\n",
              "    }\n",
              "  }\n",
              "</style>\n",
              "\n",
              "      <script>\n",
              "        async function quickchart(key) {\n",
              "          const quickchartButtonEl =\n",
              "            document.querySelector('#' + key + ' button');\n",
              "          quickchartButtonEl.disabled = true;  // To prevent multiple clicks.\n",
              "          quickchartButtonEl.classList.add('colab-df-spinner');\n",
              "          try {\n",
              "            const charts = await google.colab.kernel.invokeFunction(\n",
              "                'suggestCharts', [key], {});\n",
              "          } catch (error) {\n",
              "            console.error('Error during call to suggestCharts:', error);\n",
              "          }\n",
              "          quickchartButtonEl.classList.remove('colab-df-spinner');\n",
              "          quickchartButtonEl.classList.add('colab-df-quickchart-complete');\n",
              "        }\n",
              "        (() => {\n",
              "          let quickchartButtonEl =\n",
              "            document.querySelector('#df-dc630500-0f04-4e48-ba46-c5807475accd button');\n",
              "          quickchartButtonEl.style.display =\n",
              "            google.colab.kernel.accessAllowed ? 'block' : 'none';\n",
              "        })();\n",
              "      </script>\n",
              "    </div>\n",
              "    </div>\n",
              "  </div>\n"
            ],
            "application/vnd.google.colaboratory.intrinsic+json": {
              "type": "dataframe",
              "variable_name": "df"
            }
          },
          "metadata": {},
          "execution_count": 14
        }
      ],
      "source": [
        "# загрузим датасет\n",
        "df = pd.read_csv('simpsons_script_lines.csv')\n",
        "df.head()"
      ]
    },
    {
      "cell_type": "code",
      "execution_count": null,
      "metadata": {
        "ExecuteTime": {
          "end_time": "2020-03-12T15:12:15.820742Z",
          "start_time": "2020-03-12T15:12:15.809523Z"
        },
        "colab": {
          "base_uri": "https://localhost:8080/"
        },
        "id": "gjSdDLcSm1oc",
        "outputId": "117c029c-2f00-4ec5-e7c0-e3460d344602"
      },
      "outputs": [
        {
          "output_type": "execute_result",
          "data": {
            "text/plain": [
              "['no actually it was a little of both sometimes when a disease is in all the magazines and all the news shows its only natural that you think you have it',\n",
              " 'wheres mr bergstrom',\n",
              " 'i dont know although id sure like to talk to him he didnt touch my lesson plan what did he teach you',\n",
              " 'that life is worth living',\n",
              " 'the polls will be open from now until the end of recess now just in case any of you have decided to put any thought into this well have our final statements martin',\n",
              " 'i dont think theres anything left to say',\n",
              " 'bart',\n",
              " 'victory party under the slide',\n",
              " nan,\n",
              " 'mr bergstrom mr bergstrom']"
            ]
          },
          "metadata": {},
          "execution_count": 15
        }
      ],
      "source": [
        "phrases = df['normalized_text'].tolist()  # колонка с предобработанными текстами\n",
        "phrases[:10]"
      ]
    },
    {
      "cell_type": "code",
      "execution_count": null,
      "metadata": {
        "ExecuteTime": {
          "end_time": "2020-03-12T15:12:32.809563Z",
          "start_time": "2020-03-12T15:12:32.768140Z"
        },
        "id": "1ChXCEWwm1od"
      },
      "outputs": [],
      "source": [
        "text = [[c for c in ph] for ph in phrases if type(ph) is str]"
      ]
    },
    {
      "cell_type": "markdown",
      "metadata": {
        "id": "jAQEsntvm1od"
      },
      "source": [
        "Создаём массив с данными"
      ]
    },
    {
      "cell_type": "code",
      "execution_count": null,
      "metadata": {
        "ExecuteTime": {
          "end_time": "2020-03-12T15:12:53.641351Z",
          "start_time": "2020-03-12T15:12:53.636757Z"
        },
        "id": "ZnCuSmHym1od"
      },
      "outputs": [],
      "source": [
        "CHARS = set('abcdefghijklmnopqrstuvwxyz ')  # все символы, которые мы хотим использовать для кодировки = наш словарь\n",
        "INDEX_TO_CHAR = ['none'] + [w for w in CHARS]  # все неизвестные символы будут получать тег none\n",
        "CHAR_TO_INDEX = {w: i for i, w in enumerate(INDEX_TO_CHAR)}  # словарь токен-индекс"
      ]
    },
    {
      "cell_type": "code",
      "source": [
        "len(INDEX_TO_CHAR)"
      ],
      "metadata": {
        "colab": {
          "base_uri": "https://localhost:8080/"
        },
        "id": "vp5hyfQMIXUe",
        "outputId": "c93537ab-bba9-44aa-8734-39c4d84e2c3a"
      },
      "execution_count": null,
      "outputs": [
        {
          "output_type": "execute_result",
          "data": {
            "text/plain": [
              "28"
            ]
          },
          "metadata": {},
          "execution_count": 18
        }
      ]
    },
    {
      "cell_type": "code",
      "execution_count": null,
      "metadata": {
        "ExecuteTime": {
          "end_time": "2020-03-12T15:13:58.918002Z",
          "start_time": "2020-03-12T15:13:55.602551Z"
        },
        "id": "Z8_Kqpjnm1oe"
      },
      "outputs": [],
      "source": [
        "MAX_LEN = 70  # мы хотим ограничить максимальную длину ввода\n",
        "X = torch.zeros((len(text), MAX_LEN), dtype=int)  # создаём пустой вектор для текста, чтобы класть в него индексы токенов\n",
        "for i in range(len(text)):  # для каждого предложения\n",
        "    for j, w in enumerate(text[i]):  # для каждого токена\n",
        "        if j >= MAX_LEN:\n",
        "            break\n",
        "        X[i, j] = CHAR_TO_INDEX.get(w, CHAR_TO_INDEX['none'])"
      ]
    },
    {
      "cell_type": "code",
      "execution_count": null,
      "metadata": {
        "ExecuteTime": {
          "end_time": "2020-03-12T15:14:24.776980Z",
          "start_time": "2020-03-12T15:14:24.761649Z"
        },
        "scrolled": true,
        "colab": {
          "base_uri": "https://localhost:8080/"
        },
        "id": "UZ_pRDrHm1of",
        "outputId": "0e7c727c-b194-49a3-ae74-16b798ae7bf6"
      },
      "outputs": [
        {
          "output_type": "execute_result",
          "data": {
            "text/plain": [
              "tensor([[18,  3, 20,  7,  2, 15, 21,  7,  6,  6, 14, 20,  4, 15, 20,  8,  7, 19,\n",
              "         20,  7, 20,  6,  4, 15, 15,  6, 12, 20,  3, 26, 20, 24,  3, 15, 23, 20,\n",
              "         19,  3, 16, 12, 15,  4, 16, 12, 19, 20,  8, 23, 12, 18, 20,  7, 20,  9,\n",
              "          4, 19, 12,  7, 19, 12, 20,  4, 19, 20,  4, 18, 20,  7,  6,  6],\n",
              "        [ 8, 23, 12, 22, 12, 19, 20, 16, 22, 20, 24, 12, 22,  5, 19, 15, 22,  3,\n",
              "         16,  0,  0,  0,  0,  0,  0,  0,  0,  0,  0,  0,  0,  0,  0,  0,  0,  0,\n",
              "          0,  0,  0,  0,  0,  0,  0,  0,  0,  0,  0,  0,  0,  0,  0,  0,  0,  0,\n",
              "          0,  0,  0,  0,  0,  0,  0,  0,  0,  0,  0,  0,  0,  0,  0,  0],\n",
              "        [ 4, 20,  9,  3, 18, 15, 20, 17, 18,  3,  8, 20,  7,  6, 15, 23,  3, 21,\n",
              "          5, 23, 20,  4,  9, 20, 19, 21, 22, 12, 20,  6,  4, 17, 12, 20, 15,  3,\n",
              "         20, 15,  7,  6, 17, 20, 15,  3, 20, 23,  4, 16, 20, 23, 12, 20,  9,  4,\n",
              "          9, 18, 15, 20, 15,  3, 21,  2, 23, 20, 16, 14, 20,  6, 12, 19],\n",
              "        [15, 23,  7, 15, 20,  6,  4, 26, 12, 20,  4, 19, 20,  8,  3, 22, 15, 23,\n",
              "         20,  6,  4,  1,  4, 18,  5,  0,  0,  0,  0,  0,  0,  0,  0,  0,  0,  0,\n",
              "          0,  0,  0,  0,  0,  0,  0,  0,  0,  0,  0,  0,  0,  0,  0,  0,  0,  0,\n",
              "          0,  0,  0,  0,  0,  0,  0,  0,  0,  0,  0,  0,  0,  0,  0,  0],\n",
              "        [15, 23, 12, 20, 11,  3,  6,  6, 19, 20,  8,  4,  6,  6, 20, 24, 12, 20,\n",
              "          3, 11, 12, 18, 20, 26, 22,  3, 16, 20, 18,  3,  8, 20, 21, 18, 15,  4,\n",
              "          6, 20, 15, 23, 12, 20, 12, 18,  9, 20,  3, 26, 20, 22, 12,  2, 12, 19,\n",
              "         19, 20, 18,  3,  8, 20, 10, 21, 19, 15, 20,  4, 18, 20,  2,  7]])"
            ]
          },
          "metadata": {},
          "execution_count": 22
        }
      ],
      "source": [
        "X[0:5]"
      ]
    },
    {
      "cell_type": "markdown",
      "metadata": {
        "id": "_j4Fpnr2m1of"
      },
      "source": [
        "Embedding и RNN ячейки\n"
      ]
    },
    {
      "cell_type": "code",
      "source": [
        "X[0:5].shape"
      ],
      "metadata": {
        "colab": {
          "base_uri": "https://localhost:8080/"
        },
        "id": "49DO7kkNqtVK",
        "outputId": "cd1536df-a87d-4f59-91e0-13667b28693a"
      },
      "execution_count": null,
      "outputs": [
        {
          "output_type": "execute_result",
          "data": {
            "text/plain": [
              "torch.Size([5, 70])"
            ]
          },
          "metadata": {},
          "execution_count": 23
        }
      ]
    },
    {
      "cell_type": "code",
      "execution_count": null,
      "metadata": {
        "ExecuteTime": {
          "end_time": "2020-03-12T15:14:15.694973Z",
          "start_time": "2020-03-12T15:14:15.644024Z"
        },
        "colab": {
          "base_uri": "https://localhost:8080/"
        },
        "id": "grMla_CJm1og",
        "outputId": "927be410-5efe-40d5-e7e7-a68614a4f7ce"
      },
      "outputs": [
        {
          "output_type": "execute_result",
          "data": {
            "text/plain": [
              "torch.Size([5, 70, 28])"
            ]
          },
          "metadata": {},
          "execution_count": 24
        }
      ],
      "source": [
        "embeddings = torch.nn.Embedding(len(INDEX_TO_CHAR), 28)  # размер словаря * размер вектора для кодировки каждого слова\n",
        "t = embeddings(X[0:5])\n",
        "t.shape"
      ]
    },
    {
      "cell_type": "code",
      "execution_count": null,
      "metadata": {
        "ExecuteTime": {
          "end_time": "2020-03-12T15:14:48.405046Z",
          "start_time": "2020-03-12T15:14:48.400041Z"
        },
        "colab": {
          "base_uri": "https://localhost:8080/"
        },
        "id": "28tafLrcm1og",
        "outputId": "960f3344-fb27-491e-82be-e67c4679321e"
      },
      "outputs": [
        {
          "output_type": "execute_result",
          "data": {
            "text/plain": [
              "(torch.Size([5, 70, 28]), torch.Size([5, 70]))"
            ]
          },
          "metadata": {},
          "execution_count": 25
        }
      ],
      "source": [
        "t.shape, X[0:5].shape"
      ]
    },
    {
      "cell_type": "code",
      "execution_count": null,
      "metadata": {
        "ExecuteTime": {
          "end_time": "2020-03-12T15:18:23.190978Z",
          "start_time": "2020-03-12T15:18:23.180493Z"
        },
        "colab": {
          "base_uri": "https://localhost:8080/"
        },
        "id": "PdGchJjim1oh",
        "outputId": "742444a6-797d-49af-ea39-7c49293d7003"
      },
      "outputs": [
        {
          "output_type": "execute_result",
          "data": {
            "text/plain": [
              "(torch.Size([5, 70, 128]), torch.Size([1, 5, 128]))"
            ]
          },
          "metadata": {},
          "execution_count": 26
        }
      ],
      "source": [
        "rnn = torch.nn.RNN(28, 128, batch_first=True)  # на вход - размер эмбеддинга, размер скрытого состояния и порядок размерностей\n",
        "o, s = rnn(t)\n",
        "# вектора для слов: батч * число токенов * размер скрытого состояния\n",
        "# вектор скрытого состояния: число вектров (один) * батч * размер скрытого состояния\n",
        "o.shape, s.shape"
      ]
    },
    {
      "cell_type": "markdown",
      "source": [
        "Можно применять несколько рекуррентных ячеек подряд"
      ],
      "metadata": {
        "id": "n7JUp4QuCQZu"
      }
    },
    {
      "cell_type": "code",
      "execution_count": null,
      "metadata": {
        "ExecuteTime": {
          "end_time": "2020-03-12T15:18:35.190131Z",
          "start_time": "2020-03-12T15:18:35.180708Z"
        },
        "colab": {
          "base_uri": "https://localhost:8080/"
        },
        "id": "kdLW-BSsm1oh",
        "outputId": "ec48bf4d-aa01-435b-9c27-49b2d9ea4747"
      },
      "outputs": [
        {
          "output_type": "execute_result",
          "data": {
            "text/plain": [
              "(torch.Size([5, 70, 128]), torch.Size([1, 5, 128]))"
            ]
          },
          "metadata": {},
          "execution_count": 27
        }
      ],
      "source": [
        "o, s2 = rnn(t, s)\n",
        "o.shape, s2.shape"
      ]
    },
    {
      "cell_type": "markdown",
      "metadata": {
        "id": "ghow-s0Gm1oi"
      },
      "source": [
        "Реализация сети с RNN"
      ]
    },
    {
      "cell_type": "markdown",
      "source": [
        "3 слоя:\n",
        "1. Embeding (30)\n",
        "2. RNN (hidden_dim=128)\n",
        "3. Полносвязный слой для предсказания буквы (28, то есть размер словаря)"
      ],
      "metadata": {
        "id": "F92tl-8plI1d"
      }
    },
    {
      "cell_type": "code",
      "execution_count": null,
      "metadata": {
        "ExecuteTime": {
          "end_time": "2020-03-12T15:26:45.716418Z",
          "start_time": "2020-03-12T15:26:45.710937Z"
        },
        "id": "Z9toGCkOm1oi"
      },
      "outputs": [],
      "source": [
        "class Network(torch.nn.Module):\n",
        "    def __init__(self):\n",
        "        super(Network, self).__init__()\n",
        "        self.embedding = torch.nn.Embedding(28, 30)\n",
        "        self.rnn = torch.nn.RNN(30, 128)\n",
        "        self.out = torch.nn.Linear(128, 28)\n",
        "\n",
        "    def forward(self, sentences, state=None):\n",
        "        x = self.embedding(sentences)\n",
        "        x, s = self.rnn(x) # берём выход с последнего слоя для всех токенов, а не скрытое состояние\n",
        "        return self.out(x)"
      ]
    },
    {
      "cell_type": "code",
      "execution_count": null,
      "metadata": {
        "ExecuteTime": {
          "end_time": "2020-03-12T15:20:53.260599Z",
          "start_time": "2020-03-12T15:20:53.256979Z"
        },
        "id": "f6aCazQOm1oi"
      },
      "outputs": [],
      "source": [
        "model = Network()"
      ]
    },
    {
      "cell_type": "code",
      "execution_count": null,
      "metadata": {
        "ExecuteTime": {
          "end_time": "2020-03-12T15:21:01.929404Z",
          "start_time": "2020-03-12T15:21:01.925999Z"
        },
        "id": "HmdNPJEWm1oj"
      },
      "outputs": [],
      "source": [
        "criterion = torch.nn.CrossEntropyLoss()  # типичный лосс многоклассовой классификации\n",
        "optimizer = torch.optim.SGD(model.parameters(), lr=.05)"
      ]
    },
    {
      "cell_type": "markdown",
      "source": [
        "Обучение:"
      ],
      "metadata": {
        "id": "-J6XXp0gDUOO"
      }
    },
    {
      "cell_type": "code",
      "execution_count": null,
      "metadata": {
        "ExecuteTime": {
          "end_time": "2020-03-12T15:22:04.410583Z",
          "start_time": "2020-03-12T15:21:34.734119Z"
        },
        "scrolled": true,
        "colab": {
          "base_uri": "https://localhost:8080/"
        },
        "id": "o7zbPtfLm1oj",
        "outputId": "86a4cc95-1c08-464c-db51-3ffc64ddcd76"
      },
      "outputs": [
        {
          "output_type": "stream",
          "name": "stdout",
          "text": [
            "Epoch 0. Time: 58.631, Train loss: 1.548\n",
            "Epoch 1. Time: 57.527, Train loss: 1.455\n",
            "Epoch 2. Time: 56.973, Train loss: 1.440\n",
            "Epoch 3. Time: 58.018, Train loss: 1.432\n",
            "Epoch 4. Time: 56.984, Train loss: 1.427\n",
            "Epoch 5. Time: 57.723, Train loss: 1.422\n",
            "Epoch 6. Time: 57.230, Train loss: 1.418\n",
            "Epoch 7. Time: 58.419, Train loss: 1.415\n",
            "Epoch 8. Time: 57.234, Train loss: 1.413\n",
            "Epoch 9. Time: 57.481, Train loss: 1.411\n",
            "Epoch 10. Time: 57.793, Train loss: 1.409\n",
            "Epoch 11. Time: 57.167, Train loss: 1.408\n",
            "Epoch 12. Time: 57.914, Train loss: 1.407\n",
            "Epoch 13. Time: 57.423, Train loss: 1.406\n",
            "Epoch 14. Time: 58.594, Train loss: 1.405\n",
            "Epoch 15. Time: 57.285, Train loss: 1.404\n",
            "Epoch 16. Time: 57.655, Train loss: 1.403\n",
            "Epoch 17. Time: 57.804, Train loss: 1.402\n",
            "Epoch 18. Time: 56.644, Train loss: 1.402\n",
            "Epoch 19. Time: 57.919, Train loss: 1.401\n",
            "Epoch 20. Time: 56.822, Train loss: 1.401\n",
            "Epoch 21. Time: 57.647, Train loss: 1.400\n",
            "Epoch 22. Time: 56.561, Train loss: 1.399\n",
            "Epoch 23. Time: 57.303, Train loss: 1.399\n",
            "Epoch 24. Time: 56.418, Train loss: 1.399\n",
            "Epoch 25. Time: 57.653, Train loss: 1.398\n",
            "Epoch 26. Time: 56.634, Train loss: 1.398\n",
            "Epoch 27. Time: 57.866, Train loss: 1.398\n",
            "Epoch 28. Time: 57.249, Train loss: 1.397\n",
            "Epoch 29. Time: 57.146, Train loss: 1.397\n"
          ]
        }
      ],
      "source": [
        "for ep in range(30):\n",
        "    start = time.time()\n",
        "    train_loss = 0.\n",
        "    train_passed = 0\n",
        "\n",
        "    for i in range(int(len(X) / 100)):\n",
        "        # берём батч в 100 элементов\n",
        "        batch = X[i * 100:(i + 1) * 100]\n",
        "        X_batch = batch[:, :-1]\n",
        "        Y_batch = batch[:, 1:].flatten()\n",
        "\n",
        "        optimizer.zero_grad()\n",
        "        answers = model.forward(X_batch)\n",
        "        answers = answers.view(-1, len(INDEX_TO_CHAR))\n",
        "        loss = criterion(answers, Y_batch)\n",
        "        train_loss += loss.item()\n",
        "\n",
        "        loss.backward()\n",
        "        optimizer.step()\n",
        "        train_passed += 1\n",
        "\n",
        "    print(\"Epoch {}. Time: {:.3f}, Train loss: {:.3f}\".format(ep, time.time() - start, train_loss / train_passed))"
      ]
    },
    {
      "cell_type": "markdown",
      "metadata": {
        "ExecuteTime": {
          "end_time": "2020-03-12T15:28:40.363097Z",
          "start_time": "2020-03-12T15:28:40.357998Z"
        },
        "id": "xP_GQWpkm1ok"
      },
      "source": [
        "Генерация\n"
      ]
    },
    {
      "cell_type": "code",
      "source": [
        "CHAR_TO_INDEX['none']"
      ],
      "metadata": {
        "colab": {
          "base_uri": "https://localhost:8080/"
        },
        "id": "ybcHzCbUJs-R",
        "outputId": "3782c274-4cf8-4832-cd25-c6f30bb52890"
      },
      "execution_count": null,
      "outputs": [
        {
          "output_type": "execute_result",
          "data": {
            "text/plain": [
              "0"
            ]
          },
          "metadata": {},
          "execution_count": 32
        }
      ]
    },
    {
      "cell_type": "code",
      "source": [
        "CHAR_TO_INDEX['v']"
      ],
      "metadata": {
        "colab": {
          "base_uri": "https://localhost:8080/"
        },
        "id": "rPReAdBSt4kM",
        "outputId": "508d9964-c58a-482f-d844-814d4642d189"
      },
      "execution_count": null,
      "outputs": [
        {
          "output_type": "execute_result",
          "data": {
            "text/plain": [
              "1"
            ]
          },
          "metadata": {},
          "execution_count": 33
        }
      ]
    },
    {
      "cell_type": "code",
      "source": [
        "def generate_sentence(word):\n",
        "    sentence = list(word)\n",
        "    sentence = [CHAR_TO_INDEX.get(s, 0) for s in sentence]\n",
        "    answers = model.forward(torch.tensor(sentence))\n",
        "    probas, indices = answers.topk(1)\n",
        "    return ''.join([INDEX_TO_CHAR[ind.item()] for ind in indices.flatten()])"
      ],
      "metadata": {
        "id": "PuqijUpeL3eB"
      },
      "execution_count": null,
      "outputs": []
    },
    {
      "cell_type": "code",
      "source": [
        "generate_sentence('dog')"
      ],
      "metadata": {
        "id": "YpjZvuR_L92Z",
        "outputId": "d5e1d356-a228-41b5-d4dc-7b706a20370c",
        "colab": {
          "base_uri": "https://localhost:8080/",
          "height": 36
        }
      },
      "execution_count": null,
      "outputs": [
        {
          "output_type": "execute_result",
          "data": {
            "text/plain": [
              "' uo'"
            ],
            "application/vnd.google.colaboratory.intrinsic+json": {
              "type": "string"
            }
          },
          "metadata": {},
          "execution_count": 35
        }
      ]
    },
    {
      "cell_type": "code",
      "source": [
        "generate_sentence('hello, world')"
      ],
      "metadata": {
        "colab": {
          "base_uri": "https://localhost:8080/",
          "height": 36
        },
        "id": "xqS7Y-z1HghE",
        "outputId": "1f54e1d9-8e42-4ce6-9f16-266ffb167f2d"
      },
      "execution_count": null,
      "outputs": [
        {
          "output_type": "execute_result",
          "data": {
            "text/plain": [
              "'e llunonet uel '"
            ],
            "application/vnd.google.colaboratory.intrinsic+json": {
              "type": "string"
            }
          },
          "metadata": {},
          "execution_count": 36
        }
      ]
    },
    {
      "cell_type": "markdown",
      "source": [
        "Выводы:\n",
        "1. Написан алгоритм шифра Цезаря для генерации выборки\n",
        "2. Сделана и обучена нейронная сеть (на вход подается зашифрованная фраза, выход - дешифрованная фраза)\n",
        "3. Качество модели составило всего 0.439, что довольно мало.\n",
        "4. Выполнена практическая работа из лекционного ноутбука. Построена RNN-ячейка на основе полносвязных слоев"
      ],
      "metadata": {
        "id": "id6cp9oaotFK"
      }
    }
  ]
}