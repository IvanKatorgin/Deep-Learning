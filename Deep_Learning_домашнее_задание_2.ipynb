{
  "nbformat": 4,
  "nbformat_minor": 0,
  "metadata": {
    "colab": {
      "provenance": [],
      "include_colab_link": true
    },
    "kernelspec": {
      "name": "python3",
      "display_name": "Python 3"
    },
    "language_info": {
      "name": "python"
    }
  },
  "cells": [
    {
      "cell_type": "markdown",
      "metadata": {
        "id": "view-in-github",
        "colab_type": "text"
      },
      "source": [
        "<a href=\"https://colab.research.google.com/github/IvanKatorgin/Deep-Learning/blob/main/Deep_Learning_%D0%B4%D0%BE%D0%BC%D0%B0%D1%88%D0%BD%D0%B5%D0%B5_%D0%B7%D0%B0%D0%B4%D0%B0%D0%BD%D0%B8%D0%B5_2.ipynb\" target=\"_parent\"><img src=\"https://colab.research.google.com/assets/colab-badge.svg\" alt=\"Open In Colab\"/></a>"
      ]
    },
    {
      "cell_type": "markdown",
      "source": [
        "Курс \"Deep Learning\". Домашнее задание 2. Многослойная нейронная сеть. Каторгин И.П."
      ],
      "metadata": {
        "id": "8wiLW1DgF4MM"
      }
    },
    {
      "cell_type": "markdown",
      "source": [
        "## Задание\n",
        "\n",
        "Постройте модель на основе полносвязных слоёв для классификации Fashion MNIST из библиотеки torchvision (https://docs.pytorch.org/vision/stable/datasets.html).\n",
        "\n",
        "Получите качество на тестовой выборке не ниже 88%\n",
        "\n",
        "Инструкция по выполнению задания\n",
        "1. Скачайте тренировочную и тестовою часть датасета Fashion MNIST\n",
        "2. Постройте модель, выбрав стартовую архитектуру\n",
        "3. Обучите модель и сверьте качество на тестовой части с заданным порогом\n",
        "4. Изменяйте архитектуру модели пока качество на тестовой части не будет выше порога. Вариации архитектуры можно реализовать через изменение количества слоёв, количества нейронов в слоях и использование регуляризации. Можно использовать различные оптимизаторы."
      ],
      "metadata": {
        "id": "HQznS_DcGH_y"
      }
    },
    {
      "cell_type": "code",
      "source": [
        "# загрузим библиотеки\n",
        "import pandas as pd, numpy as np, matplotlib.pyplot as plt, seaborn as sns, time\n",
        "%matplotlib inline"
      ],
      "metadata": {
        "id": "VlSntTJUF3rO"
      },
      "execution_count": 1,
      "outputs": []
    },
    {
      "cell_type": "code",
      "execution_count": 2,
      "metadata": {
        "id": "SEKOYH2rpHaD"
      },
      "outputs": [],
      "source": [
        "import torch\n",
        "import torchvision as tv\n",
        "from torch import autograd"
      ]
    },
    {
      "cell_type": "code",
      "source": [
        "import torch.nn as nn\n",
        "import torch.optim as optim\n",
        "from torch.utils.data import TensorDataset, random_split, DataLoader"
      ],
      "metadata": {
        "id": "1cfUXtBtG2Gr"
      },
      "execution_count": 3,
      "outputs": []
    },
    {
      "cell_type": "markdown",
      "source": [
        "Загрузим датасет"
      ],
      "metadata": {
        "id": "ywHkdC5hIKYQ"
      }
    },
    {
      "cell_type": "code",
      "metadata": {
        "id": "qb_NW7cVmPZs"
      },
      "source": [
        "BATCH_SIZE=256"
      ],
      "execution_count": 4,
      "outputs": []
    },
    {
      "cell_type": "code",
      "metadata": {
        "colab": {
          "base_uri": "https://localhost:8080/"
        },
        "id": "Kw5Kv2i6mPZu",
        "outputId": "db1c19d3-bd10-49b0-99db-fe9d1c5d51b1"
      },
      "source": [
        "# загрузим датасет\n",
        "train_dataset = tv.datasets.FashionMNIST('.', train=True, transform=tv.transforms.ToTensor(), download=True)\n",
        "test_dataset = tv.datasets.FashionMNIST('.', train=False, transform=tv.transforms.ToTensor(), download=True)\n",
        "train = torch.utils.data.DataLoader(train_dataset, batch_size=BATCH_SIZE)\n",
        "test = torch.utils.data.DataLoader(test_dataset, batch_size=BATCH_SIZE)"
      ],
      "execution_count": 5,
      "outputs": [
        {
          "output_type": "stream",
          "name": "stderr",
          "text": [
            "100%|██████████| 26.4M/26.4M [00:01<00:00, 19.2MB/s]\n",
            "100%|██████████| 29.5k/29.5k [00:00<00:00, 343kB/s]\n",
            "100%|██████████| 4.42M/4.42M [00:00<00:00, 6.20MB/s]\n",
            "100%|██████████| 5.15k/5.15k [00:00<00:00, 8.78MB/s]\n"
          ]
        }
      ]
    },
    {
      "cell_type": "code",
      "metadata": {
        "colab": {
          "base_uri": "https://localhost:8080/"
        },
        "id": "SKhbDXt_mPZ0",
        "outputId": "c73ac297-8b90-4c4a-af52-b2a1701219a7"
      },
      "source": [
        "train_dataset[0][0].shape"
      ],
      "execution_count": 21,
      "outputs": [
        {
          "output_type": "execute_result",
          "data": {
            "text/plain": [
              "torch.Size([1, 28, 28])"
            ]
          },
          "metadata": {},
          "execution_count": 21
        }
      ]
    },
    {
      "cell_type": "markdown",
      "source": [
        "Создадим модель"
      ],
      "metadata": {
        "id": "m_cKbQT_Idkw"
      }
    },
    {
      "cell_type": "code",
      "metadata": {
        "id": "V7qWC2EbmPZ5"
      },
      "source": [
        "model = torch.nn.Sequential(\n",
        "    torch.nn.Flatten(),\n",
        "    torch.nn.Linear(784, 256),\n",
        "    torch.nn.ReLU(),\n",
        "    torch.nn.Linear(256, 10)\n",
        ")"
      ],
      "execution_count": 22,
      "outputs": []
    },
    {
      "cell_type": "code",
      "metadata": {
        "colab": {
          "base_uri": "https://localhost:8080/"
        },
        "id": "p36P60xZALtj",
        "outputId": "977ec17d-353f-417f-826c-d6a13fbcdbb7"
      },
      "source": [
        "model"
      ],
      "execution_count": 23,
      "outputs": [
        {
          "output_type": "execute_result",
          "data": {
            "text/plain": [
              "Sequential(\n",
              "  (0): Flatten(start_dim=1, end_dim=-1)\n",
              "  (1): Linear(in_features=784, out_features=256, bias=True)\n",
              "  (2): ReLU()\n",
              "  (3): Linear(in_features=256, out_features=10, bias=True)\n",
              ")"
            ]
          },
          "metadata": {},
          "execution_count": 23
        }
      ]
    },
    {
      "cell_type": "code",
      "metadata": {
        "id": "fDqkL214mPZ7"
      },
      "source": [
        "loss = torch.nn.CrossEntropyLoss()\n",
        "trainer = torch.optim.SGD(model.parameters(), lr=.01)\n",
        "num_epochs = 15"
      ],
      "execution_count": 24,
      "outputs": []
    },
    {
      "cell_type": "code",
      "metadata": {
        "id": "vVqz1hvTmPaA"
      },
      "source": [
        "def train_model():\n",
        "    for ep in range(num_epochs):\n",
        "        train_iters, train_passed  = 0, 0\n",
        "        train_loss, train_acc = 0., 0.\n",
        "        start=time.time()\n",
        "\n",
        "        model.train()\n",
        "        for X, y in train:\n",
        "            trainer.zero_grad()\n",
        "            y_pred = model(X)\n",
        "            l = loss(y_pred, y)\n",
        "            l.backward()\n",
        "            trainer.step()\n",
        "            train_loss += l.item()\n",
        "            train_acc += (y_pred.argmax(dim=1) == y).sum().item()\n",
        "            train_iters += 1\n",
        "            train_passed += len(X)\n",
        "\n",
        "        test_iters, test_passed  = 0, 0\n",
        "        test_loss, test_acc = 0., 0.\n",
        "        model.eval()\n",
        "        for X, y in test:\n",
        "            y_pred = model(X)\n",
        "            l = loss(y_pred, y)\n",
        "            test_loss += l.item()\n",
        "            test_acc += (y_pred.argmax(dim=1) == y).sum().item()\n",
        "            test_iters += 1\n",
        "            test_passed += len(X)\n",
        "\n",
        "        print(\"ep: {}, taked: {:.3f}, train_loss: {}, train_acc: {}, test_loss: {}, test_acc: {}\".format(\n",
        "            ep, time.time() - start, train_loss / train_iters, train_acc / train_passed,\n",
        "            test_loss / test_iters, test_acc / test_passed)\n",
        "        )"
      ],
      "execution_count": 25,
      "outputs": []
    },
    {
      "cell_type": "markdown",
      "source": [
        "Обучим модель"
      ],
      "metadata": {
        "id": "kRoR3G1qIsOD"
      }
    },
    {
      "cell_type": "code",
      "metadata": {
        "colab": {
          "base_uri": "https://localhost:8080/"
        },
        "id": "XbXgnTAKPyi2",
        "outputId": "8b2111f1-eda4-4c3c-a1d6-9f6e21acf55d"
      },
      "source": [
        "train_model()"
      ],
      "execution_count": 26,
      "outputs": [
        {
          "output_type": "stream",
          "name": "stdout",
          "text": [
            "ep: 0, taked: 8.969, train_loss: 1.7649857845712216, train_acc: 0.5409833333333334, test_loss: 1.29611876308918, test_acc: 0.6449\n",
            "ep: 1, taked: 9.269, train_loss: 1.0756583916380051, train_acc: 0.67015, test_loss: 0.9448431253433227, test_acc: 0.6763\n",
            "ep: 2, taked: 9.400, train_loss: 0.8635012449102198, train_acc: 0.7070666666666666, test_loss: 0.8185941740870476, test_acc: 0.7087\n",
            "ep: 3, taked: 9.455, train_loss: 0.7701501087939485, train_acc: 0.7386333333333334, test_loss: 0.7488710880279541, test_acc: 0.7354\n",
            "ep: 4, taked: 8.571, train_loss: 0.7124457970578619, train_acc: 0.7593666666666666, test_loss: 0.7011205449700355, test_acc: 0.7532\n",
            "ep: 5, taked: 9.477, train_loss: 0.6706742786346598, train_acc: 0.77485, test_loss: 0.6652295432984829, test_acc: 0.769\n",
            "ep: 6, taked: 9.353, train_loss: 0.6383450553772297, train_acc: 0.7875833333333333, test_loss: 0.6371999308466911, test_acc: 0.7808\n",
            "ep: 7, taked: 9.434, train_loss: 0.6125058933775476, train_acc: 0.7967666666666666, test_loss: 0.6147256687283515, test_acc: 0.787\n",
            "ep: 8, taked: 8.674, train_loss: 0.5913854010561679, train_acc: 0.8032666666666667, test_loss: 0.5963487938046456, test_acc: 0.793\n",
            "ep: 9, taked: 9.463, train_loss: 0.5738121782211547, train_acc: 0.8096, test_loss: 0.5810725867748261, test_acc: 0.7991\n",
            "ep: 10, taked: 9.561, train_loss: 0.5589654344193479, train_acc: 0.8137333333333333, test_loss: 0.5681735187768936, test_acc: 0.8036\n",
            "ep: 11, taked: 9.420, train_loss: 0.5462505833899721, train_acc: 0.818, test_loss: 0.557125772535801, test_acc: 0.8075\n",
            "ep: 12, taked: 8.794, train_loss: 0.5352227250312237, train_acc: 0.8213166666666667, test_loss: 0.5475482411682606, test_acc: 0.8118\n",
            "ep: 13, taked: 9.416, train_loss: 0.5255478077746453, train_acc: 0.8246833333333333, test_loss: 0.53914994597435, test_acc: 0.8133\n",
            "ep: 14, taked: 9.468, train_loss: 0.5169742624810402, train_acc: 0.82675, test_loss: 0.5317103579640389, test_acc: 0.8147\n"
          ]
        }
      ]
    },
    {
      "cell_type": "markdown",
      "metadata": {
        "id": "q6BCfLUEmPaD"
      },
      "source": [
        "Заменим SGD на Adam и RMSProp"
      ]
    },
    {
      "cell_type": "code",
      "metadata": {
        "id": "OYSzzVD2Q6m4"
      },
      "source": [
        "model = torch.nn.Sequential(\n",
        "    torch.nn.Flatten(),\n",
        "    torch.nn.Linear(784, 256),\n",
        "    torch.nn.ReLU(),\n",
        "    torch.nn.Linear(256, 10)\n",
        ")"
      ],
      "execution_count": 27,
      "outputs": []
    },
    {
      "cell_type": "code",
      "metadata": {
        "colab": {
          "base_uri": "https://localhost:8080/"
        },
        "id": "MMX0U9rNmPaD",
        "outputId": "2a759b0f-1035-4e4a-bc8d-336453e2cc45"
      },
      "source": [
        "trainer = torch.optim.Adam(model.parameters(), lr=.01)\n",
        "train_model()"
      ],
      "execution_count": 28,
      "outputs": [
        {
          "output_type": "stream",
          "name": "stdout",
          "text": [
            "ep: 0, taked: 9.815, train_loss: 0.5206882904184625, train_acc: 0.8111833333333334, test_loss: 0.43169169798493384, test_acc: 0.845\n",
            "ep: 1, taked: 9.799, train_loss: 0.3852374642453295, train_acc: 0.8603666666666666, test_loss: 0.4052948631346226, test_acc: 0.8561\n",
            "ep: 2, taked: 9.877, train_loss: 0.3481611762909179, train_acc: 0.87315, test_loss: 0.4181889433413744, test_acc: 0.8534\n",
            "ep: 3, taked: 9.330, train_loss: 0.32977162244472097, train_acc: 0.8795666666666667, test_loss: 0.3993444390594959, test_acc: 0.8636\n",
            "ep: 4, taked: 9.997, train_loss: 0.31558352055701805, train_acc: 0.8843, test_loss: 0.41095768585801123, test_acc: 0.8591\n",
            "ep: 5, taked: 10.063, train_loss: 0.30580765617654676, train_acc: 0.8875833333333333, test_loss: 0.411845026910305, test_acc: 0.8612\n",
            "ep: 6, taked: 10.004, train_loss: 0.29634868077775267, train_acc: 0.8915333333333333, test_loss: 0.4594195865094662, test_acc: 0.8527\n",
            "ep: 7, taked: 9.811, train_loss: 0.28869172423443895, train_acc: 0.8929833333333334, test_loss: 0.4267272919416428, test_acc: 0.8599\n",
            "ep: 8, taked: 9.526, train_loss: 0.2796282721326706, train_acc: 0.8969333333333334, test_loss: 0.4609008714556694, test_acc: 0.8511\n",
            "ep: 9, taked: 10.101, train_loss: 0.27190961095880956, train_acc: 0.8985333333333333, test_loss: 0.41130506359040736, test_acc: 0.8641\n",
            "ep: 10, taked: 10.215, train_loss: 0.27190920228653764, train_acc: 0.8983166666666667, test_loss: 0.42774316295981407, test_acc: 0.8589\n",
            "ep: 11, taked: 10.054, train_loss: 0.2687247522967927, train_acc: 0.9003333333333333, test_loss: 0.42848664298653605, test_acc: 0.8641\n",
            "ep: 12, taked: 9.708, train_loss: 0.26134204686956203, train_acc: 0.9035666666666666, test_loss: 0.41910539120435714, test_acc: 0.8705\n",
            "ep: 13, taked: 9.644, train_loss: 0.25769867440487476, train_acc: 0.9048333333333334, test_loss: 0.4254224680364132, test_acc: 0.8641\n",
            "ep: 14, taked: 10.077, train_loss: 0.2495459571163705, train_acc: 0.9062, test_loss: 0.43882092982530596, test_acc: 0.8627\n"
          ]
        }
      ]
    },
    {
      "cell_type": "code",
      "source": [
        "model = torch.nn.Sequential(\n",
        "    torch.nn.Flatten(),\n",
        "    torch.nn.Linear(784, 256),\n",
        "    torch.nn.ReLU(),\n",
        "    torch.nn.Linear(256, 10)\n",
        ")"
      ],
      "metadata": {
        "id": "Oj8bWvfuJhAb"
      },
      "execution_count": 29,
      "outputs": []
    },
    {
      "cell_type": "code",
      "source": [
        "trainer = torch.optim.RMSprop(model.parameters(), lr=.01)\n",
        "train_model()"
      ],
      "metadata": {
        "colab": {
          "base_uri": "https://localhost:8080/"
        },
        "id": "mnPYgiP4Jgyp",
        "outputId": "0c3e86c3-5027-4e6d-e4cb-8bb3276708fe"
      },
      "execution_count": 30,
      "outputs": [
        {
          "output_type": "stream",
          "name": "stdout",
          "text": [
            "ep: 0, taked: 8.749, train_loss: 2.1278968349416205, train_acc: 0.7673333333333333, test_loss: 0.5489179141819477, test_acc: 0.7927\n",
            "ep: 1, taked: 9.720, train_loss: 0.4621863995460754, train_acc: 0.8310333333333333, test_loss: 0.49561156183481214, test_acc: 0.8242\n",
            "ep: 2, taked: 9.719, train_loss: 0.4201027499868515, train_acc: 0.8449833333333333, test_loss: 0.5590631410479545, test_acc: 0.8138\n",
            "ep: 3, taked: 9.681, train_loss: 0.45981221382922316, train_acc: 0.8463833333333334, test_loss: 0.4323976539075375, test_acc: 0.8471\n",
            "ep: 4, taked: 8.900, train_loss: 0.3679318416625895, train_acc: 0.8644166666666667, test_loss: 0.5056783333420753, test_acc: 0.8242\n",
            "ep: 5, taked: 9.652, train_loss: 0.3595762860901812, train_acc: 0.8663666666666666, test_loss: 0.4219836715608835, test_acc: 0.8504\n",
            "ep: 6, taked: 9.625, train_loss: 0.35856463129216054, train_acc: 0.8687833333333334, test_loss: 0.40507490187883377, test_acc: 0.8551\n",
            "ep: 7, taked: 9.651, train_loss: 0.3435420477009834, train_acc: 0.8740333333333333, test_loss: 0.39501209035515783, test_acc: 0.862\n",
            "ep: 8, taked: 8.972, train_loss: 0.3388827527457095, train_acc: 0.8772666666666666, test_loss: 0.39134874418377874, test_acc: 0.8618\n",
            "ep: 9, taked: 9.543, train_loss: 0.32430618931638433, train_acc: 0.88005, test_loss: 0.3941294537857175, test_acc: 0.8605\n",
            "ep: 10, taked: 9.726, train_loss: 0.3145644245629615, train_acc: 0.88295, test_loss: 0.38991986587643623, test_acc: 0.8633\n",
            "ep: 11, taked: 9.712, train_loss: 0.3127641831306701, train_acc: 0.8855833333333333, test_loss: 0.41473673228174446, test_acc: 0.8655\n",
            "ep: 12, taked: 9.044, train_loss: 0.31090924410109827, train_acc: 0.8866166666666667, test_loss: 0.4169356355443597, test_acc: 0.8625\n",
            "ep: 13, taked: 9.401, train_loss: 0.306983094139302, train_acc: 0.8874666666666666, test_loss: 0.42568896189332006, test_acc: 0.8653\n",
            "ep: 14, taked: 9.719, train_loss: 0.2920325037012709, train_acc: 0.8921666666666667, test_loss: 0.3983320824801922, test_acc: 0.867\n"
          ]
        }
      ]
    },
    {
      "cell_type": "markdown",
      "metadata": {
        "id": "urhJrVvSmPaF"
      },
      "source": [
        "Сделаем больше слоёв и Adam"
      ]
    },
    {
      "cell_type": "code",
      "metadata": {
        "id": "lqYmS2z6mPaG"
      },
      "source": [
        "model = torch.nn.Sequential(\n",
        "    torch.nn.Flatten(),\n",
        "    torch.nn.Linear(784, 512),\n",
        "    torch.nn.ReLU(),\n",
        "    torch.nn.Linear(512, 256),\n",
        "    torch.nn.ReLU(),\n",
        "    torch.nn.Linear(256, 128),\n",
        "    torch.nn.ReLU(),\n",
        "    torch.nn.Linear(128, 10)\n",
        ")"
      ],
      "execution_count": 31,
      "outputs": []
    },
    {
      "cell_type": "code",
      "metadata": {
        "colab": {
          "base_uri": "https://localhost:8080/"
        },
        "id": "jwaEKd9FRU8e",
        "outputId": "22bb86bc-7d07-4edc-812d-15b7e0aefbf8"
      },
      "source": [
        "trainer = torch.optim.Adam(model.parameters(), lr=.01)\n",
        "train_model()"
      ],
      "execution_count": 32,
      "outputs": [
        {
          "output_type": "stream",
          "name": "stdout",
          "text": [
            "ep: 0, taked: 12.586, train_loss: 0.5813221334142887, train_acc: 0.78245, test_loss: 0.44911829456686975, test_acc: 0.8357\n",
            "ep: 1, taked: 12.680, train_loss: 0.39604337240787263, train_acc: 0.8556166666666667, test_loss: 0.4276466406881809, test_acc: 0.8432\n",
            "ep: 2, taked: 12.844, train_loss: 0.3649995906555906, train_acc: 0.86665, test_loss: 0.3866875607520342, test_acc: 0.8609\n",
            "ep: 3, taked: 14.614, train_loss: 0.3430439623112374, train_acc: 0.8749, test_loss: 0.42189398445188997, test_acc: 0.8604\n",
            "ep: 4, taked: 14.152, train_loss: 0.33348234302185953, train_acc: 0.8781, test_loss: 0.4137972265481949, test_acc: 0.8612\n",
            "ep: 5, taked: 14.195, train_loss: 0.31623736220471405, train_acc: 0.8839166666666667, test_loss: 0.38468071073293686, test_acc: 0.8686\n",
            "ep: 6, taked: 14.166, train_loss: 0.31094731092453004, train_acc: 0.8845166666666666, test_loss: 0.42263117507100106, test_acc: 0.8596\n",
            "ep: 7, taked: 14.781, train_loss: 0.3063214588038465, train_acc: 0.8864666666666666, test_loss: 0.4338243458420038, test_acc: 0.8602\n",
            "ep: 8, taked: 14.307, train_loss: 0.2987690213512867, train_acc: 0.8894, test_loss: 0.41705254539847375, test_acc: 0.8663\n",
            "ep: 9, taked: 14.275, train_loss: 0.2917352801307719, train_acc: 0.8929, test_loss: 0.41443772353231906, test_acc: 0.8637\n",
            "ep: 10, taked: 14.214, train_loss: 0.2902908964994106, train_acc: 0.8929666666666667, test_loss: 0.38143583983182905, test_acc: 0.8733\n",
            "ep: 11, taked: 14.239, train_loss: 0.28630406526809044, train_acc: 0.8939, test_loss: 0.40223838239908216, test_acc: 0.8664\n",
            "ep: 12, taked: 14.191, train_loss: 0.2823672049223109, train_acc: 0.8950166666666667, test_loss: 0.37810228727757933, test_acc: 0.8728\n",
            "ep: 13, taked: 14.246, train_loss: 0.2787027253749523, train_acc: 0.8962833333333333, test_loss: 0.40454466044902804, test_acc: 0.8681\n",
            "ep: 14, taked: 14.842, train_loss: 0.2762673594850175, train_acc: 0.8985, test_loss: 0.41368650905787946, test_acc: 0.8741\n"
          ]
        }
      ]
    },
    {
      "cell_type": "markdown",
      "metadata": {
        "id": "MMELAZ3dmPaI"
      },
      "source": [
        "Добавим dropout и batchnorm-слои"
      ]
    },
    {
      "cell_type": "code",
      "metadata": {
        "id": "wGQ2LsSmmPZ3"
      },
      "source": [
        "model = torch.nn.Sequential(\n",
        "    torch.nn.Flatten(),\n",
        "    torch.nn.Linear(784, 2560),\n",
        "    torch.nn.ReLU(),\n",
        "    torch.nn.Dropout(0.5),\n",
        "    torch.nn.Linear(2560, 1280),\n",
        "    torch.nn.ReLU(),\n",
        "    torch.nn.Dropout(0.5),\n",
        "    torch.nn.Linear(1280, 640),\n",
        "    torch.nn.ReLU(),\n",
        "    torch.nn.Dropout(0.5),\n",
        "    torch.nn.Linear(640, 10)\n",
        ")"
      ],
      "execution_count": 35,
      "outputs": []
    },
    {
      "cell_type": "code",
      "metadata": {
        "colab": {
          "base_uri": "https://localhost:8080/"
        },
        "id": "am_lO7jSV0Fl",
        "outputId": "f95c2eb4-4fd4-46fb-fb92-977368f0f358"
      },
      "source": [
        "trainer = torch.optim.Adam(model.parameters(), lr=.01)\n",
        "train_model()"
      ],
      "execution_count": 36,
      "outputs": [
        {
          "output_type": "stream",
          "name": "stdout",
          "text": [
            "ep: 0, taked: 61.211, train_loss: 1.1554567273626937, train_acc: 0.6349166666666667, test_loss: 0.6922964043915272, test_acc: 0.715\n",
            "ep: 1, taked: 60.910, train_loss: 0.8973515784486811, train_acc: 0.6634833333333333, test_loss: 0.6768616020679474, test_acc: 0.7182\n",
            "ep: 2, taked: 65.950, train_loss: 0.9332675200827578, train_acc: 0.6589166666666667, test_loss: 0.6716974593698979, test_acc: 0.7245\n",
            "ep: 3, taked: 90.986, train_loss: 0.9684767200591716, train_acc: 0.6475166666666666, test_loss: 0.7056689485907555, test_acc: 0.7163\n",
            "ep: 4, taked: 84.192, train_loss: 0.9934180931842074, train_acc: 0.6407333333333334, test_loss: 0.8257804855704307, test_acc: 0.7063\n",
            "ep: 5, taked: 83.453, train_loss: 0.9919665374654405, train_acc: 0.6429166666666667, test_loss: 0.7131932653486729, test_acc: 0.7215\n",
            "ep: 6, taked: 84.525, train_loss: 0.9617666972444413, train_acc: 0.64785, test_loss: 0.6987582288682461, test_acc: 0.7254\n",
            "ep: 7, taked: 84.607, train_loss: 0.9633284310077099, train_acc: 0.6475666666666666, test_loss: 0.6948957458138466, test_acc: 0.7243\n",
            "ep: 8, taked: 87.522, train_loss: 0.9898588467151561, train_acc: 0.64405, test_loss: 0.7004160054028035, test_acc: 0.7251\n",
            "ep: 9, taked: 85.357, train_loss: 1.015175217263242, train_acc: 0.6319, test_loss: 0.7233147643506527, test_acc: 0.7143\n",
            "ep: 10, taked: 84.522, train_loss: 1.0393392418293244, train_acc: 0.6238333333333334, test_loss: 0.746434798836708, test_acc: 0.7068\n",
            "ep: 11, taked: 83.886, train_loss: 1.0741818253030169, train_acc: 0.6176, test_loss: 0.7036855086684227, test_acc: 0.7111\n",
            "ep: 12, taked: 84.164, train_loss: 1.0381610378305963, train_acc: 0.61975, test_loss: 0.754678051173687, test_acc: 0.7056\n",
            "ep: 13, taked: 84.796, train_loss: 0.9971020051773558, train_acc: 0.6334166666666666, test_loss: 0.7496978037059308, test_acc: 0.7063\n",
            "ep: 14, taked: 83.437, train_loss: 0.9803955631053194, train_acc: 0.64155, test_loss: 0.730392237752676, test_acc: 0.6997\n"
          ]
        }
      ]
    },
    {
      "cell_type": "code",
      "metadata": {
        "id": "bW8thRZnmPaI"
      },
      "source": [
        "model = torch.nn.Sequential(\n",
        "    torch.nn.Flatten(),\n",
        "    torch.nn.Linear(784, 512),\n",
        "    torch.nn.ReLU(),\n",
        "    torch.nn.BatchNorm1d(512),\n",
        "    torch.nn.Linear(512, 256),\n",
        "    torch.nn.ReLU(),\n",
        "    torch.nn.BatchNorm1d(256),\n",
        "    torch.nn.Linear(256, 128),\n",
        "    torch.nn.ReLU(),\n",
        "    torch.nn.BatchNorm1d(128),\n",
        "    torch.nn.Linear(128, 10)\n",
        ")"
      ],
      "execution_count": 44,
      "outputs": []
    },
    {
      "cell_type": "code",
      "metadata": {
        "colab": {
          "base_uri": "https://localhost:8080/"
        },
        "id": "w6a0Y0WqVxt0",
        "outputId": "2ecdd548-001d-4f37-d498-c56533050a14"
      },
      "source": [
        "# попробуем уменьшить learning rate и добавим параметр betas\n",
        "trainer = torch.optim.Adam(model.parameters(), lr=.0001, betas=(0.9, 0.999))\n",
        "train_model()"
      ],
      "execution_count": 45,
      "outputs": [
        {
          "output_type": "stream",
          "name": "stdout",
          "text": [
            "ep: 0, taked: 13.909, train_loss: 0.6131979153511372, train_acc: 0.8171666666666667, test_loss: 0.43979710191488264, test_acc: 0.8513\n",
            "ep: 1, taked: 13.288, train_loss: 0.36575534001309823, train_acc: 0.8770166666666667, test_loss: 0.3824111096560955, test_acc: 0.862\n",
            "ep: 2, taked: 12.638, train_loss: 0.31026010291373474, train_acc: 0.8936166666666666, test_loss: 0.3617993209511042, test_acc: 0.8694\n",
            "ep: 3, taked: 12.673, train_loss: 0.27332230356145415, train_acc: 0.9050166666666667, test_loss: 0.3505463063716888, test_acc: 0.8718\n",
            "ep: 4, taked: 12.704, train_loss: 0.24554826414331477, train_acc: 0.9146166666666666, test_loss: 0.3417630882933736, test_acc: 0.8751\n",
            "ep: 5, taked: 12.800, train_loss: 0.22141029866451914, train_acc: 0.92275, test_loss: 0.33260042034089565, test_acc: 0.8794\n",
            "ep: 6, taked: 12.838, train_loss: 0.19945057037662953, train_acc: 0.931, test_loss: 0.34698844589293004, test_acc: 0.8749\n",
            "ep: 7, taked: 12.767, train_loss: 0.1796953554800216, train_acc: 0.9388166666666666, test_loss: 0.3376618456095457, test_acc: 0.8803\n",
            "ep: 8, taked: 12.726, train_loss: 0.163546266644559, train_acc: 0.9447666666666666, test_loss: 0.35252238074317577, test_acc: 0.8759\n",
            "ep: 9, taked: 12.682, train_loss: 0.14914000798413093, train_acc: 0.9503, test_loss: 0.3501853279769421, test_acc: 0.8795\n",
            "ep: 10, taked: 12.677, train_loss: 0.13518834351859194, train_acc: 0.9550333333333333, test_loss: 0.34803015142679217, test_acc: 0.8817\n",
            "ep: 11, taked: 12.797, train_loss: 0.12096652724641435, train_acc: 0.9608333333333333, test_loss: 0.3434222677722573, test_acc: 0.8865\n",
            "ep: 12, taked: 12.766, train_loss: 0.11034273362540184, train_acc: 0.9645166666666667, test_loss: 0.35962614342570304, test_acc: 0.8854\n",
            "ep: 13, taked: 12.759, train_loss: 0.09971719174943072, train_acc: 0.9676666666666667, test_loss: 0.3566227689385414, test_acc: 0.8856\n",
            "ep: 14, taked: 12.791, train_loss: 0.09206930736595012, train_acc: 0.9704333333333334, test_loss: 0.378977058455348, test_acc: 0.8836\n"
          ]
        }
      ]
    },
    {
      "cell_type": "markdown",
      "source": [
        "Выводы:\n",
        "1. Построена и обучена модель многослойной НС\n",
        "2. Модель была оптимизирована несколькими различными способами, получив тем самым точность на тестовой выборке больше пороговой (88%)"
      ],
      "metadata": {
        "id": "ozyOiahiO-aD"
      }
    }
  ]
}