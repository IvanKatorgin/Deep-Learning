{
  "nbformat": 4,
  "nbformat_minor": 0,
  "metadata": {
    "colab": {
      "provenance": [],
      "authorship_tag": "ABX9TyP7p0bCiJM7AJ4LpX2FL+CO",
      "include_colab_link": true
    },
    "kernelspec": {
      "name": "python3",
      "display_name": "Python 3"
    },
    "language_info": {
      "name": "python"
    }
  },
  "cells": [
    {
      "cell_type": "markdown",
      "metadata": {
        "id": "view-in-github",
        "colab_type": "text"
      },
      "source": [
        "<a href=\"https://colab.research.google.com/github/IvanKatorgin/Deep-Learning/blob/main/Deep_Learning_%D0%B4%D0%BE%D0%BC%D0%B0%D1%88%D0%BD%D0%B5%D0%B5_%D0%B7%D0%B0%D0%B4%D0%B0%D0%BD%D0%B8%D0%B5_2.ipynb\" target=\"_parent\"><img src=\"https://colab.research.google.com/assets/colab-badge.svg\" alt=\"Open In Colab\"/></a>"
      ]
    },
    {
      "cell_type": "markdown",
      "source": [
        "Курс \"Deep Learning\". Домашнее задание 2. Многослойная нейронная сеть. Каторгин И.П."
      ],
      "metadata": {
        "id": "8wiLW1DgF4MM"
      }
    },
    {
      "cell_type": "markdown",
      "source": [
        "## Задание\n",
        "\n",
        "Постройте модель на основе полносвязных слоёв для классификации Fashion MNIST из библиотеки torchvision (https://docs.pytorch.org/vision/stable/datasets.html).\n",
        "\n",
        "Получите качество на тестовой выборке не ниже 88%\n",
        "\n",
        "Инструкция по выполнению задания\n",
        "1. Скачайте тренировочную и тестовою часть датасета Fashion MNIST\n",
        "2. Постройте модель, выбрав стартовую архитектуру\n",
        "3. Обучите модель и сверьте качество на тестовой части с заданным порогом\n",
        "4. Изменяйте архитектуру модели пока качество на тестовой части не будет выше порога. Вариации архитектуры можно реализовать через изменение количества слоёв, количества нейронов в слоях и использование регуляризации. Можно использовать различные оптимизаторы."
      ],
      "metadata": {
        "id": "HQznS_DcGH_y"
      }
    },
    {
      "cell_type": "code",
      "source": [
        "# загрузим библиотеки\n",
        "import pandas as pd, numpy as np, matplotlib.pyplot as plt, seaborn as sns, time\n",
        "%matplotlib inline"
      ],
      "metadata": {
        "id": "VlSntTJUF3rO"
      },
      "execution_count": 1,
      "outputs": []
    },
    {
      "cell_type": "code",
      "execution_count": 2,
      "metadata": {
        "id": "SEKOYH2rpHaD"
      },
      "outputs": [],
      "source": [
        "import torch\n",
        "import torchvision as tv\n",
        "from torch import autograd"
      ]
    },
    {
      "cell_type": "code",
      "source": [
        "import torch.nn as nn\n",
        "import torch.optim as optim\n",
        "from torch.utils.data import TensorDataset, random_split, DataLoader"
      ],
      "metadata": {
        "id": "1cfUXtBtG2Gr"
      },
      "execution_count": 3,
      "outputs": []
    },
    {
      "cell_type": "markdown",
      "source": [
        "Загрузим датасет"
      ],
      "metadata": {
        "id": "ywHkdC5hIKYQ"
      }
    },
    {
      "cell_type": "code",
      "metadata": {
        "id": "qb_NW7cVmPZs"
      },
      "source": [
        "BATCH_SIZE=256"
      ],
      "execution_count": 4,
      "outputs": []
    },
    {
      "cell_type": "code",
      "metadata": {
        "colab": {
          "base_uri": "https://localhost:8080/"
        },
        "id": "Kw5Kv2i6mPZu",
        "outputId": "3953cdf5-2a81-4fab-c9c1-1b87e5daf7a7"
      },
      "source": [
        "# загрузим датасет\n",
        "train_dataset = tv.datasets.MNIST('.', train=True, transform=tv.transforms.ToTensor(), download=True)\n",
        "test_dataset = tv.datasets.MNIST('.', train=False, transform=tv.transforms.ToTensor(), download=True)\n",
        "train = torch.utils.data.DataLoader(train_dataset, batch_size=BATCH_SIZE)\n",
        "test = torch.utils.data.DataLoader(test_dataset, batch_size=BATCH_SIZE)"
      ],
      "execution_count": 5,
      "outputs": [
        {
          "output_type": "stream",
          "name": "stderr",
          "text": [
            "100%|██████████| 9.91M/9.91M [00:00<00:00, 42.1MB/s]\n",
            "100%|██████████| 28.9k/28.9k [00:00<00:00, 1.23MB/s]\n",
            "100%|██████████| 1.65M/1.65M [00:00<00:00, 10.2MB/s]\n",
            "100%|██████████| 4.54k/4.54k [00:00<00:00, 4.39MB/s]\n"
          ]
        }
      ]
    },
    {
      "cell_type": "code",
      "metadata": {
        "colab": {
          "base_uri": "https://localhost:8080/"
        },
        "id": "SKhbDXt_mPZ0",
        "outputId": "73535840-fa75-410e-eec4-5bf6ce089be5"
      },
      "source": [
        "train_dataset[0][0].shape"
      ],
      "execution_count": 6,
      "outputs": [
        {
          "output_type": "execute_result",
          "data": {
            "text/plain": [
              "torch.Size([1, 28, 28])"
            ]
          },
          "metadata": {},
          "execution_count": 6
        }
      ]
    },
    {
      "cell_type": "markdown",
      "source": [
        "Создадим модель"
      ],
      "metadata": {
        "id": "m_cKbQT_Idkw"
      }
    },
    {
      "cell_type": "code",
      "metadata": {
        "id": "V7qWC2EbmPZ5"
      },
      "source": [
        "model = torch.nn.Sequential(\n",
        "    torch.nn.Flatten(),\n",
        "    torch.nn.Linear(784, 256),\n",
        "    torch.nn.ReLU(),\n",
        "    torch.nn.Linear(256, 10)\n",
        ")"
      ],
      "execution_count": 7,
      "outputs": []
    },
    {
      "cell_type": "code",
      "metadata": {
        "colab": {
          "base_uri": "https://localhost:8080/"
        },
        "id": "p36P60xZALtj",
        "outputId": "4d76ff0c-7b38-4993-c0be-893bae8af51c"
      },
      "source": [
        "model"
      ],
      "execution_count": 8,
      "outputs": [
        {
          "output_type": "execute_result",
          "data": {
            "text/plain": [
              "Sequential(\n",
              "  (0): Flatten(start_dim=1, end_dim=-1)\n",
              "  (1): Linear(in_features=784, out_features=256, bias=True)\n",
              "  (2): ReLU()\n",
              "  (3): Linear(in_features=256, out_features=10, bias=True)\n",
              ")"
            ]
          },
          "metadata": {},
          "execution_count": 8
        }
      ]
    },
    {
      "cell_type": "code",
      "metadata": {
        "id": "fDqkL214mPZ7"
      },
      "source": [
        "loss = torch.nn.CrossEntropyLoss()\n",
        "trainer = torch.optim.SGD(model.parameters(), lr=.01)\n",
        "num_epochs = 10"
      ],
      "execution_count": 9,
      "outputs": []
    },
    {
      "cell_type": "code",
      "metadata": {
        "id": "vVqz1hvTmPaA"
      },
      "source": [
        "def train_model():\n",
        "    for ep in range(num_epochs):\n",
        "        train_iters, train_passed  = 0, 0\n",
        "        train_loss, train_acc = 0., 0.\n",
        "        start=time.time()\n",
        "\n",
        "        model.train()\n",
        "        for X, y in train:\n",
        "            trainer.zero_grad()\n",
        "            y_pred = model(X)\n",
        "            l = loss(y_pred, y)\n",
        "            l.backward()\n",
        "            trainer.step()\n",
        "            train_loss += l.item()\n",
        "            train_acc += (y_pred.argmax(dim=1) == y).sum().item()\n",
        "            train_iters += 1\n",
        "            train_passed += len(X)\n",
        "\n",
        "        test_iters, test_passed  = 0, 0\n",
        "        test_loss, test_acc = 0., 0.\n",
        "        model.eval()\n",
        "        for X, y in test:\n",
        "            y_pred = model(X)\n",
        "            l = loss(y_pred, y)\n",
        "            test_loss += l.item()\n",
        "            test_acc += (y_pred.argmax(dim=1) == y).sum().item()\n",
        "            test_iters += 1\n",
        "            test_passed += len(X)\n",
        "\n",
        "        print(\"ep: {}, taked: {:.3f}, train_loss: {}, train_acc: {}, test_loss: {}, test_acc: {}\".format(\n",
        "            ep, time.time() - start, train_loss / train_iters, train_acc / train_passed,\n",
        "            test_loss / test_iters, test_acc / test_passed)\n",
        "        )"
      ],
      "execution_count": 10,
      "outputs": []
    },
    {
      "cell_type": "markdown",
      "source": [
        "Обучим модель"
      ],
      "metadata": {
        "id": "kRoR3G1qIsOD"
      }
    },
    {
      "cell_type": "code",
      "metadata": {
        "colab": {
          "base_uri": "https://localhost:8080/"
        },
        "id": "XbXgnTAKPyi2",
        "outputId": "65b2be70-c117-453a-f1a0-52143cf1cb75"
      },
      "source": [
        "train_model()"
      ],
      "execution_count": 11,
      "outputs": [
        {
          "output_type": "stream",
          "name": "stdout",
          "text": [
            "ep: 0, taked: 13.670, train_loss: 2.026048896667805, train_acc: 0.5403, test_loss: 1.6527101933956145, test_acc: 0.749\n",
            "ep: 1, taked: 12.835, train_loss: 1.3075380431844834, train_acc: 0.7852333333333333, test_loss: 0.9819915056228637, test_acc: 0.8271\n",
            "ep: 2, taked: 13.187, train_loss: 0.8469145682263881, train_acc: 0.8328333333333333, test_loss: 0.6963753223419189, test_acc: 0.8546\n",
            "ep: 3, taked: 13.332, train_loss: 0.6522842730613465, train_acc: 0.8536166666666667, test_loss: 0.5675402142107486, test_acc: 0.8688\n",
            "ep: 4, taked: 12.915, train_loss: 0.5549589166615871, train_acc: 0.8661833333333333, test_loss: 0.49591019935905933, test_acc: 0.8787\n",
            "ep: 5, taked: 12.810, train_loss: 0.49699936534496064, train_acc: 0.87555, test_loss: 0.450462743267417, test_acc: 0.8854\n",
            "ep: 6, taked: 12.528, train_loss: 0.4585243506634489, train_acc: 0.8817333333333334, test_loss: 0.41913165226578714, test_acc: 0.8901\n",
            "ep: 7, taked: 13.486, train_loss: 0.43106964959743177, train_acc: 0.8865166666666666, test_loss: 0.396222073957324, test_acc: 0.8945\n",
            "ep: 8, taked: 9.750, train_loss: 0.41041969631580594, train_acc: 0.8897, test_loss: 0.37873373329639437, test_acc: 0.8978\n",
            "ep: 9, taked: 10.127, train_loss: 0.3942375329263667, train_acc: 0.8924666666666666, test_loss: 0.36488073486834766, test_acc: 0.8996\n"
          ]
        }
      ]
    },
    {
      "cell_type": "markdown",
      "metadata": {
        "id": "q6BCfLUEmPaD"
      },
      "source": [
        "Заменим SGD на Adam и RMSProp"
      ]
    },
    {
      "cell_type": "code",
      "metadata": {
        "id": "OYSzzVD2Q6m4"
      },
      "source": [
        "model = torch.nn.Sequential(\n",
        "    torch.nn.Flatten(),\n",
        "    torch.nn.Linear(784, 256),\n",
        "    torch.nn.ReLU(),\n",
        "    torch.nn.Linear(256, 10)\n",
        ")"
      ],
      "execution_count": 12,
      "outputs": []
    },
    {
      "cell_type": "code",
      "metadata": {
        "colab": {
          "base_uri": "https://localhost:8080/"
        },
        "id": "MMX0U9rNmPaD",
        "outputId": "449c0f4d-95ff-4fc3-8d3f-aab321801294"
      },
      "source": [
        "trainer = torch.optim.Adam(model.parameters(), lr=.01)\n",
        "train_model()"
      ],
      "execution_count": 13,
      "outputs": [
        {
          "output_type": "stream",
          "name": "stdout",
          "text": [
            "ep: 0, taked: 10.593, train_loss: 0.25133316168918257, train_acc: 0.9229166666666667, test_loss: 0.17128781897481532, test_acc: 0.9423\n",
            "ep: 1, taked: 11.243, train_loss: 0.1025048160687723, train_acc: 0.9688166666666667, test_loss: 0.14138924330472946, test_acc: 0.9579\n",
            "ep: 2, taked: 10.449, train_loss: 0.07317300830036402, train_acc: 0.9773333333333334, test_loss: 0.11774192083394155, test_acc: 0.9675\n",
            "ep: 3, taked: 10.953, train_loss: 0.05703299590683681, train_acc: 0.9813333333333333, test_loss: 0.11238132262624276, test_acc: 0.9706\n",
            "ep: 4, taked: 12.990, train_loss: 0.05468047473460753, train_acc: 0.9823666666666667, test_loss: 0.1433022439829074, test_acc: 0.9646\n",
            "ep: 5, taked: 10.009, train_loss: 0.04970085704302851, train_acc: 0.9841333333333333, test_loss: 0.12291293297967058, test_acc: 0.972\n",
            "ep: 6, taked: 10.832, train_loss: 0.044771621733943515, train_acc: 0.986, test_loss: 0.10972942423977657, test_acc: 0.9748\n",
            "ep: 7, taked: 10.984, train_loss: 0.03958725530178623, train_acc: 0.9879166666666667, test_loss: 0.126269395378597, test_acc: 0.9746\n",
            "ep: 8, taked: 10.698, train_loss: 0.04273593345894775, train_acc: 0.9871, test_loss: 0.15840994810232586, test_acc: 0.9712\n",
            "ep: 9, taked: 10.565, train_loss: 0.038669261204585324, train_acc: 0.9886333333333334, test_loss: 0.18529287995138474, test_acc: 0.9663\n"
          ]
        }
      ]
    },
    {
      "cell_type": "code",
      "source": [
        "model = torch.nn.Sequential(\n",
        "    torch.nn.Flatten(),\n",
        "    torch.nn.Linear(784, 256),\n",
        "    torch.nn.ReLU(),\n",
        "    torch.nn.Linear(256, 10)\n",
        ")"
      ],
      "metadata": {
        "id": "Oj8bWvfuJhAb"
      },
      "execution_count": 14,
      "outputs": []
    },
    {
      "cell_type": "code",
      "source": [
        "trainer = torch.optim.RMSprop(model.parameters(), lr=.01)\n",
        "train_model()"
      ],
      "metadata": {
        "colab": {
          "base_uri": "https://localhost:8080/"
        },
        "id": "mnPYgiP4Jgyp",
        "outputId": "371aba6f-86fd-4553-8781-f6ae181739a5"
      },
      "execution_count": 15,
      "outputs": [
        {
          "output_type": "stream",
          "name": "stdout",
          "text": [
            "ep: 0, taked: 10.383, train_loss: 0.9400718860803766, train_acc: 0.9010333333333334, test_loss: 0.31108668316155674, test_acc: 0.8977\n",
            "ep: 1, taked: 10.148, train_loss: 0.14530890255056797, train_acc: 0.9564, test_loss: 0.19338047690689564, test_acc: 0.9386\n",
            "ep: 2, taked: 10.144, train_loss: 0.10991501729301316, train_acc: 0.9665333333333334, test_loss: 0.23763030068948865, test_acc: 0.9311\n",
            "ep: 3, taked: 9.770, train_loss: 0.09074426028441558, train_acc: 0.97295, test_loss: 0.1383802484764601, test_acc: 0.9623\n",
            "ep: 4, taked: 9.670, train_loss: 0.0674053361778088, train_acc: 0.9789666666666667, test_loss: 0.12567196328018326, test_acc: 0.9661\n",
            "ep: 5, taked: 10.184, train_loss: 0.060507484250999194, train_acc: 0.9821166666666666, test_loss: 0.16240115629771026, test_acc: 0.962\n",
            "ep: 6, taked: 10.176, train_loss: 0.05011923901261167, train_acc: 0.98425, test_loss: 0.18010700640443247, test_acc: 0.9607\n",
            "ep: 7, taked: 10.132, train_loss: 0.042668900713126394, train_acc: 0.9861666666666666, test_loss: 0.16996699099654505, test_acc: 0.9658\n",
            "ep: 8, taked: 9.383, train_loss: 0.03754223016532822, train_acc: 0.9887333333333334, test_loss: 0.15191168919700432, test_acc: 0.9697\n",
            "ep: 9, taked: 9.813, train_loss: 0.03514974591436182, train_acc: 0.9891666666666666, test_loss: 0.15811871679543402, test_acc: 0.9731\n"
          ]
        }
      ]
    },
    {
      "cell_type": "markdown",
      "metadata": {
        "id": "urhJrVvSmPaF"
      },
      "source": [
        "Сделаем больше слоёв и Adam"
      ]
    },
    {
      "cell_type": "code",
      "metadata": {
        "id": "lqYmS2z6mPaG"
      },
      "source": [
        "model = torch.nn.Sequential(\n",
        "    torch.nn.Flatten(),\n",
        "    torch.nn.Linear(784, 512),\n",
        "    torch.nn.ReLU(),\n",
        "    torch.nn.Linear(512, 256),\n",
        "    torch.nn.ReLU(),\n",
        "    torch.nn.Linear(256, 128),\n",
        "    torch.nn.ReLU(),\n",
        "    torch.nn.Linear(128, 10)\n",
        ")"
      ],
      "execution_count": 16,
      "outputs": []
    },
    {
      "cell_type": "code",
      "metadata": {
        "colab": {
          "base_uri": "https://localhost:8080/"
        },
        "id": "jwaEKd9FRU8e",
        "outputId": "6dedcaeb-45c5-482d-cb83-bfcca698a07f"
      },
      "source": [
        "trainer = torch.optim.Adam(model.parameters(), lr=.01)\n",
        "train_model()"
      ],
      "execution_count": 17,
      "outputs": [
        {
          "output_type": "stream",
          "name": "stdout",
          "text": [
            "ep: 0, taked: 13.268, train_loss: 0.3182741059426297, train_acc: 0.90145, test_loss: 0.15008386662229894, test_acc: 0.956\n",
            "ep: 1, taked: 13.191, train_loss: 0.13021310661186247, train_acc: 0.96255, test_loss: 0.15613317450915928, test_acc: 0.9585\n",
            "ep: 2, taked: 13.430, train_loss: 0.0974827642602093, train_acc: 0.9720333333333333, test_loss: 0.1108994363945385, test_acc: 0.9725\n",
            "ep: 3, taked: 15.463, train_loss: 0.08338044207107197, train_acc: 0.97635, test_loss: 0.13898571890895256, test_acc: 0.9631\n",
            "ep: 4, taked: 15.469, train_loss: 0.06939768251229791, train_acc: 0.97935, test_loss: 0.13369896282674745, test_acc: 0.9665\n",
            "ep: 5, taked: 15.580, train_loss: 0.07496216414010826, train_acc: 0.97865, test_loss: 0.15325484235581827, test_acc: 0.9684\n",
            "ep: 6, taked: 14.247, train_loss: 0.06522328020915627, train_acc: 0.9818166666666667, test_loss: 0.14284539262007456, test_acc: 0.971\n",
            "ep: 7, taked: 14.995, train_loss: 0.06057288072943846, train_acc: 0.9839166666666667, test_loss: 0.14263552665361204, test_acc: 0.9687\n",
            "ep: 8, taked: 14.294, train_loss: 0.0572312145038171, train_acc: 0.9849333333333333, test_loss: 0.19237733026493514, test_acc: 0.9674\n",
            "ep: 9, taked: 14.431, train_loss: 0.05291576842935954, train_acc: 0.9857166666666667, test_loss: 0.18465519503224642, test_acc: 0.9702\n"
          ]
        }
      ]
    },
    {
      "cell_type": "markdown",
      "metadata": {
        "id": "MMELAZ3dmPaI"
      },
      "source": [
        "Добавим dropout и batchnorm-слои"
      ]
    },
    {
      "cell_type": "code",
      "metadata": {
        "id": "bW8thRZnmPaI"
      },
      "source": [
        "model = torch.nn.Sequential(\n",
        "    torch.nn.Flatten(),\n",
        "    torch.nn.Linear(784, 512),\n",
        "    torch.nn.ReLU(),\n",
        "    torch.nn.BatchNorm1d(512),\n",
        "    torch.nn.Linear(512, 256),\n",
        "    torch.nn.ReLU(),\n",
        "    torch.nn.BatchNorm1d(256),\n",
        "    torch.nn.Linear(256, 128),\n",
        "    torch.nn.ReLU(),\n",
        "    torch.nn.BatchNorm1d(128),\n",
        "    torch.nn.Linear(128, 10)\n",
        ")"
      ],
      "execution_count": 18,
      "outputs": []
    },
    {
      "cell_type": "code",
      "metadata": {
        "colab": {
          "base_uri": "https://localhost:8080/"
        },
        "id": "w6a0Y0WqVxt0",
        "outputId": "b17a78a9-5ab8-4da6-8876-5eddb72b09c0"
      },
      "source": [
        "trainer = torch.optim.Adam(model.parameters(), lr=.01)\n",
        "train_model()"
      ],
      "execution_count": 19,
      "outputs": [
        {
          "output_type": "stream",
          "name": "stdout",
          "text": [
            "ep: 0, taked: 13.173, train_loss: 0.1995008583794883, train_acc: 0.9379, test_loss: 0.12515610187547282, test_acc: 0.9602\n",
            "ep: 1, taked: 13.287, train_loss: 0.10008004195988178, train_acc: 0.9694333333333334, test_loss: 0.12730557382456026, test_acc: 0.9613\n",
            "ep: 2, taked: 13.342, train_loss: 0.07126081689320346, train_acc: 0.97755, test_loss: 0.1177482103346847, test_acc: 0.9642\n",
            "ep: 3, taked: 13.535, train_loss: 0.05215304958772786, train_acc: 0.9829333333333333, test_loss: 0.12125980069977231, test_acc: 0.9665\n",
            "ep: 4, taked: 13.333, train_loss: 0.039636359859178676, train_acc: 0.9870666666666666, test_loss: 0.11033004635755787, test_acc: 0.9715\n",
            "ep: 5, taked: 13.412, train_loss: 0.034412419186667244, train_acc: 0.9887833333333333, test_loss: 0.13299535576661584, test_acc: 0.9682\n",
            "ep: 6, taked: 13.354, train_loss: 0.029945388161379132, train_acc: 0.9902833333333333, test_loss: 0.10614263873721938, test_acc: 0.976\n",
            "ep: 7, taked: 13.584, train_loss: 0.027584979068388804, train_acc: 0.9906833333333334, test_loss: 0.12472296951746102, test_acc: 0.9678\n",
            "ep: 8, taked: 13.647, train_loss: 0.02432073767351462, train_acc: 0.9917666666666667, test_loss: 0.10174909819452296, test_acc: 0.9736\n",
            "ep: 9, taked: 13.435, train_loss: 0.01808782288943358, train_acc: 0.9936166666666667, test_loss: 0.132555604335721, test_acc: 0.9743\n"
          ]
        }
      ]
    },
    {
      "cell_type": "code",
      "metadata": {
        "id": "wGQ2LsSmmPZ3"
      },
      "source": [
        "model = torch.nn.Sequential(\n",
        "    torch.nn.Flatten(),\n",
        "    torch.nn.Linear(784, 2560),\n",
        "    torch.nn.ReLU(),\n",
        "    torch.nn.Dropout(0.5),\n",
        "    torch.nn.Linear(2560, 1280),\n",
        "    torch.nn.ReLU(),\n",
        "    torch.nn.Dropout(0.5),\n",
        "    torch.nn.Linear(1280, 640),\n",
        "    torch.nn.ReLU(),\n",
        "    torch.nn.Dropout(0.5),\n",
        "    torch.nn.Linear(640, 10)\n",
        ")"
      ],
      "execution_count": 20,
      "outputs": []
    },
    {
      "cell_type": "code",
      "metadata": {
        "colab": {
          "base_uri": "https://localhost:8080/"
        },
        "id": "am_lO7jSV0Fl",
        "outputId": "688f6075-fe6a-4c5e-ebc0-a62aa05f2527"
      },
      "source": [
        "trainer = torch.optim.Adam(model.parameters(), lr=.01)\n",
        "train_model()"
      ],
      "execution_count": 21,
      "outputs": [
        {
          "output_type": "stream",
          "name": "stdout",
          "text": [
            "ep: 0, taked: 66.732, train_loss: 0.8713837563991547, train_acc: 0.7376166666666667, test_loss: 0.33000228377059104, test_acc: 0.9134\n",
            "ep: 1, taked: 65.061, train_loss: 0.6526616034989662, train_acc: 0.8153833333333333, test_loss: 0.32608561287634075, test_acc: 0.9238\n",
            "ep: 2, taked: 69.815, train_loss: 0.6956393248223244, train_acc: 0.80965, test_loss: 0.3344119225628674, test_acc: 0.9182\n",
            "ep: 3, taked: 87.071, train_loss: 0.7268584770091037, train_acc: 0.7988333333333333, test_loss: 0.34029333824291824, test_acc: 0.916\n",
            "ep: 4, taked: 81.369, train_loss: 0.7079244357474307, train_acc: 0.8076833333333333, test_loss: 0.41874344954267145, test_acc: 0.8943\n",
            "ep: 5, taked: 83.672, train_loss: 0.730344609377232, train_acc: 0.7988666666666666, test_loss: 0.39118291400372984, test_acc: 0.9083\n",
            "ep: 6, taked: 82.835, train_loss: 0.7877896130084991, train_acc: 0.7883166666666667, test_loss: 0.3731915856711566, test_acc: 0.9046\n",
            "ep: 7, taked: 84.834, train_loss: 0.782990936776425, train_acc: 0.78695, test_loss: 0.3908226049505174, test_acc: 0.903\n",
            "ep: 8, taked: 84.078, train_loss: 0.7984080862491689, train_acc: 0.7797833333333334, test_loss: 0.3547414171509445, test_acc: 0.9102\n",
            "ep: 9, taked: 83.809, train_loss: 0.7687695671903326, train_acc: 0.7866833333333333, test_loss: 0.41899961670860647, test_acc: 0.9082\n"
          ]
        }
      ]
    },
    {
      "cell_type": "markdown",
      "source": [
        "Выводы:\n",
        "1. Построена и обучена модель многослойной НС\n",
        "2. Модель была оптимизирована несколькими различными способами, получив тем самым точность на тестовой выборке больше пороговой (88%)"
      ],
      "metadata": {
        "id": "ozyOiahiO-aD"
      }
    }
  ]
}