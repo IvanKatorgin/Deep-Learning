{
  "nbformat": 4,
  "nbformat_minor": 0,
  "metadata": {
    "colab": {
      "provenance": [],
      "gpuType": "T4",
      "authorship_tag": "ABX9TyOkJL6Ly8QGq9nbxeAV75hG",
      "include_colab_link": true
    },
    "kernelspec": {
      "name": "python3",
      "display_name": "Python 3"
    },
    "language_info": {
      "name": "python"
    },
    "accelerator": "GPU"
  },
  "cells": [
    {
      "cell_type": "markdown",
      "metadata": {
        "id": "view-in-github",
        "colab_type": "text"
      },
      "source": [
        "<a href=\"https://colab.research.google.com/github/IvanKatorgin/Deep-Learning/blob/main/Deep_Learning_%D0%B4%D0%BE%D0%BC%D0%B0%D1%88%D0%BD%D0%B5%D0%B5_%D0%B7%D0%B0%D0%B4%D0%B0%D0%BD%D0%B8%D0%B5_3.ipynb\" target=\"_parent\"><img src=\"https://colab.research.google.com/assets/colab-badge.svg\" alt=\"Open In Colab\"/></a>"
      ]
    },
    {
      "cell_type": "markdown",
      "source": [
        "Курс \"Deep Learning\". Домашнее задание 3. Свёрточные сети. Каторгин И.П."
      ],
      "metadata": {
        "id": "RE60MYjW05DS"
      }
    },
    {
      "cell_type": "markdown",
      "source": [
        "## Задание\n",
        "Постройте модель, используя архитектуру со свёрточными слоями, для классификации Fashion MNIST. Итоговое качество (accuracy) должно быть не ниже 89,5.\n",
        "\n",
        "Инструкция к выполнению задания\n",
        "1. Скачайте тренировочную и тестовою часть датасета Fashion MNIST\n",
        "2. Постройте архитектуру модели, используя свёрточные слои, слои регуляризации и один финальный полносвязный слой\n",
        "3. Обучите модель до необходимого качества. Если сеть не обучается до необходимого качества, попробуйте поменять архитектуру сети, варьируя параметры свёрток, количество каналов, количество свёрточных слоёв, слои регуляризации, тип оптимайзера и т. д."
      ],
      "metadata": {
        "id": "bnbV2HO81EEJ"
      }
    },
    {
      "cell_type": "code",
      "source": [
        "# загрузим библиотеки\n",
        "import pandas as pd, numpy as np, matplotlib.pyplot as plt, seaborn as sns, time, cv2\n",
        "%matplotlib inline"
      ],
      "metadata": {
        "id": "VlSntTJUF3rO"
      },
      "execution_count": 1,
      "outputs": []
    },
    {
      "cell_type": "code",
      "execution_count": 2,
      "metadata": {
        "id": "SEKOYH2rpHaD"
      },
      "outputs": [],
      "source": [
        "import torch\n",
        "import torchvision as tv\n",
        "from torch import autograd"
      ]
    },
    {
      "cell_type": "code",
      "source": [
        "import torch.nn as nn\n",
        "import torch.optim as optim\n",
        "from torch.utils.data import TensorDataset, random_split, DataLoader"
      ],
      "metadata": {
        "id": "1cfUXtBtG2Gr"
      },
      "execution_count": 3,
      "outputs": []
    },
    {
      "cell_type": "markdown",
      "source": [
        "Загрузим датасет"
      ],
      "metadata": {
        "id": "ywHkdC5hIKYQ"
      }
    },
    {
      "cell_type": "code",
      "metadata": {
        "id": "qb_NW7cVmPZs"
      },
      "source": [
        "BATCH_SIZE=256"
      ],
      "execution_count": 4,
      "outputs": []
    },
    {
      "cell_type": "code",
      "source": [
        "transforms = tv.transforms.Compose([\n",
        "    tv.transforms.Resize(28),\n",
        "    tv.transforms.ToTensor()\n",
        "])"
      ],
      "metadata": {
        "id": "GJ8jFfLa3EMV"
      },
      "execution_count": 5,
      "outputs": []
    },
    {
      "cell_type": "code",
      "metadata": {
        "colab": {
          "base_uri": "https://localhost:8080/"
        },
        "id": "Kw5Kv2i6mPZu",
        "outputId": "9d7ea3a1-6ec7-47ab-e1a8-eaf4bde3ed57"
      },
      "source": [
        "# загрузим датасет\n",
        "train_dataset = tv.datasets.FashionMNIST('.', train=True, transform=transforms, download=True)\n",
        "test_dataset = tv.datasets.FashionMNIST('.', train=False, transform=transforms, download=True)\n",
        "train_iter = torch.utils.data.DataLoader(train_dataset, batch_size=BATCH_SIZE)\n",
        "test_iter = torch.utils.data.DataLoader(test_dataset, batch_size=BATCH_SIZE)"
      ],
      "execution_count": 6,
      "outputs": [
        {
          "output_type": "stream",
          "name": "stderr",
          "text": [
            "100%|██████████| 26.4M/26.4M [00:00<00:00, 113MB/s]\n",
            "100%|██████████| 29.5k/29.5k [00:00<00:00, 3.83MB/s]\n",
            "100%|██████████| 4.42M/4.42M [00:00<00:00, 57.6MB/s]\n",
            "100%|██████████| 5.15k/5.15k [00:00<00:00, 8.31MB/s]\n"
          ]
        }
      ]
    },
    {
      "cell_type": "code",
      "metadata": {
        "colab": {
          "base_uri": "https://localhost:8080/"
        },
        "id": "SKhbDXt_mPZ0",
        "outputId": "c63606c9-9fe3-4928-f63f-81b05d2fca13"
      },
      "source": [
        "train_dataset[0][0].shape"
      ],
      "execution_count": 7,
      "outputs": [
        {
          "output_type": "execute_result",
          "data": {
            "text/plain": [
              "torch.Size([1, 28, 28])"
            ]
          },
          "metadata": {},
          "execution_count": 7
        }
      ]
    },
    {
      "cell_type": "code",
      "source": [
        "train_dataset[0]"
      ],
      "metadata": {
        "colab": {
          "base_uri": "https://localhost:8080/"
        },
        "id": "P2Hp4B4d3LFT",
        "outputId": "1a40b1e4-7ecb-46d3-a944-b2545b8ffbfb"
      },
      "execution_count": 8,
      "outputs": [
        {
          "output_type": "execute_result",
          "data": {
            "text/plain": [
              "(tensor([[[0.0000, 0.0000, 0.0000, 0.0000, 0.0000, 0.0000, 0.0000, 0.0000,\n",
              "           0.0000, 0.0000, 0.0000, 0.0000, 0.0000, 0.0000, 0.0000, 0.0000,\n",
              "           0.0000, 0.0000, 0.0000, 0.0000, 0.0000, 0.0000, 0.0000, 0.0000,\n",
              "           0.0000, 0.0000, 0.0000, 0.0000],\n",
              "          [0.0000, 0.0000, 0.0000, 0.0000, 0.0000, 0.0000, 0.0000, 0.0000,\n",
              "           0.0000, 0.0000, 0.0000, 0.0000, 0.0000, 0.0000, 0.0000, 0.0000,\n",
              "           0.0000, 0.0000, 0.0000, 0.0000, 0.0000, 0.0000, 0.0000, 0.0000,\n",
              "           0.0000, 0.0000, 0.0000, 0.0000],\n",
              "          [0.0000, 0.0000, 0.0000, 0.0000, 0.0000, 0.0000, 0.0000, 0.0000,\n",
              "           0.0000, 0.0000, 0.0000, 0.0000, 0.0000, 0.0000, 0.0000, 0.0000,\n",
              "           0.0000, 0.0000, 0.0000, 0.0000, 0.0000, 0.0000, 0.0000, 0.0000,\n",
              "           0.0000, 0.0000, 0.0000, 0.0000],\n",
              "          [0.0000, 0.0000, 0.0000, 0.0000, 0.0000, 0.0000, 0.0000, 0.0000,\n",
              "           0.0000, 0.0000, 0.0000, 0.0000, 0.0039, 0.0000, 0.0000, 0.0510,\n",
              "           0.2863, 0.0000, 0.0000, 0.0039, 0.0157, 0.0000, 0.0000, 0.0000,\n",
              "           0.0000, 0.0039, 0.0039, 0.0000],\n",
              "          [0.0000, 0.0000, 0.0000, 0.0000, 0.0000, 0.0000, 0.0000, 0.0000,\n",
              "           0.0000, 0.0000, 0.0000, 0.0000, 0.0118, 0.0000, 0.1412, 0.5333,\n",
              "           0.4980, 0.2431, 0.2118, 0.0000, 0.0000, 0.0000, 0.0039, 0.0118,\n",
              "           0.0157, 0.0000, 0.0000, 0.0118],\n",
              "          [0.0000, 0.0000, 0.0000, 0.0000, 0.0000, 0.0000, 0.0000, 0.0000,\n",
              "           0.0000, 0.0000, 0.0000, 0.0000, 0.0235, 0.0000, 0.4000, 0.8000,\n",
              "           0.6902, 0.5255, 0.5647, 0.4824, 0.0902, 0.0000, 0.0000, 0.0000,\n",
              "           0.0000, 0.0471, 0.0392, 0.0000],\n",
              "          [0.0000, 0.0000, 0.0000, 0.0000, 0.0000, 0.0000, 0.0000, 0.0000,\n",
              "           0.0000, 0.0000, 0.0000, 0.0000, 0.0000, 0.0000, 0.6078, 0.9255,\n",
              "           0.8118, 0.6980, 0.4196, 0.6118, 0.6314, 0.4275, 0.2510, 0.0902,\n",
              "           0.3020, 0.5098, 0.2824, 0.0588],\n",
              "          [0.0000, 0.0000, 0.0000, 0.0000, 0.0000, 0.0000, 0.0000, 0.0000,\n",
              "           0.0000, 0.0000, 0.0000, 0.0039, 0.0000, 0.2706, 0.8118, 0.8745,\n",
              "           0.8549, 0.8471, 0.8471, 0.6392, 0.4980, 0.4745, 0.4784, 0.5725,\n",
              "           0.5529, 0.3451, 0.6745, 0.2588],\n",
              "          [0.0000, 0.0000, 0.0000, 0.0000, 0.0000, 0.0000, 0.0000, 0.0000,\n",
              "           0.0000, 0.0039, 0.0039, 0.0039, 0.0000, 0.7843, 0.9098, 0.9098,\n",
              "           0.9137, 0.8980, 0.8745, 0.8745, 0.8431, 0.8353, 0.6431, 0.4980,\n",
              "           0.4824, 0.7686, 0.8980, 0.0000],\n",
              "          [0.0000, 0.0000, 0.0000, 0.0000, 0.0000, 0.0000, 0.0000, 0.0000,\n",
              "           0.0000, 0.0000, 0.0000, 0.0000, 0.0000, 0.7176, 0.8824, 0.8471,\n",
              "           0.8745, 0.8941, 0.9216, 0.8902, 0.8784, 0.8706, 0.8784, 0.8667,\n",
              "           0.8745, 0.9608, 0.6784, 0.0000],\n",
              "          [0.0000, 0.0000, 0.0000, 0.0000, 0.0000, 0.0000, 0.0000, 0.0000,\n",
              "           0.0000, 0.0000, 0.0000, 0.0000, 0.0000, 0.7569, 0.8941, 0.8549,\n",
              "           0.8353, 0.7765, 0.7059, 0.8314, 0.8235, 0.8275, 0.8353, 0.8745,\n",
              "           0.8627, 0.9529, 0.7922, 0.0000],\n",
              "          [0.0000, 0.0000, 0.0000, 0.0000, 0.0000, 0.0000, 0.0000, 0.0000,\n",
              "           0.0000, 0.0039, 0.0118, 0.0000, 0.0471, 0.8588, 0.8627, 0.8314,\n",
              "           0.8549, 0.7529, 0.6627, 0.8902, 0.8157, 0.8549, 0.8784, 0.8314,\n",
              "           0.8863, 0.7725, 0.8196, 0.2039],\n",
              "          [0.0000, 0.0000, 0.0000, 0.0000, 0.0000, 0.0000, 0.0000, 0.0000,\n",
              "           0.0000, 0.0000, 0.0235, 0.0000, 0.3882, 0.9569, 0.8706, 0.8627,\n",
              "           0.8549, 0.7961, 0.7765, 0.8667, 0.8431, 0.8353, 0.8706, 0.8627,\n",
              "           0.9608, 0.4667, 0.6549, 0.2196],\n",
              "          [0.0000, 0.0000, 0.0000, 0.0000, 0.0000, 0.0000, 0.0000, 0.0000,\n",
              "           0.0000, 0.0157, 0.0000, 0.0000, 0.2157, 0.9255, 0.8941, 0.9020,\n",
              "           0.8941, 0.9412, 0.9098, 0.8353, 0.8549, 0.8745, 0.9176, 0.8510,\n",
              "           0.8510, 0.8196, 0.3608, 0.0000],\n",
              "          [0.0000, 0.0000, 0.0039, 0.0157, 0.0235, 0.0275, 0.0078, 0.0000,\n",
              "           0.0000, 0.0000, 0.0000, 0.0000, 0.9294, 0.8863, 0.8510, 0.8745,\n",
              "           0.8706, 0.8588, 0.8706, 0.8667, 0.8471, 0.8745, 0.8980, 0.8431,\n",
              "           0.8549, 1.0000, 0.3020, 0.0000],\n",
              "          [0.0000, 0.0118, 0.0000, 0.0000, 0.0000, 0.0000, 0.0000, 0.0000,\n",
              "           0.0000, 0.2431, 0.5686, 0.8000, 0.8941, 0.8118, 0.8353, 0.8667,\n",
              "           0.8549, 0.8157, 0.8275, 0.8549, 0.8784, 0.8745, 0.8588, 0.8431,\n",
              "           0.8784, 0.9569, 0.6235, 0.0000],\n",
              "          [0.0000, 0.0000, 0.0000, 0.0000, 0.0706, 0.1725, 0.3216, 0.4196,\n",
              "           0.7412, 0.8941, 0.8627, 0.8706, 0.8510, 0.8863, 0.7843, 0.8039,\n",
              "           0.8275, 0.9020, 0.8784, 0.9176, 0.6902, 0.7373, 0.9804, 0.9725,\n",
              "           0.9137, 0.9333, 0.8431, 0.0000],\n",
              "          [0.0000, 0.2235, 0.7333, 0.8157, 0.8784, 0.8667, 0.8784, 0.8157,\n",
              "           0.8000, 0.8392, 0.8157, 0.8196, 0.7843, 0.6235, 0.9608, 0.7569,\n",
              "           0.8078, 0.8745, 1.0000, 1.0000, 0.8667, 0.9176, 0.8667, 0.8275,\n",
              "           0.8627, 0.9098, 0.9647, 0.0000],\n",
              "          [0.0118, 0.7922, 0.8941, 0.8784, 0.8667, 0.8275, 0.8275, 0.8392,\n",
              "           0.8039, 0.8039, 0.8039, 0.8627, 0.9412, 0.3137, 0.5882, 1.0000,\n",
              "           0.8980, 0.8667, 0.7373, 0.6039, 0.7490, 0.8235, 0.8000, 0.8196,\n",
              "           0.8706, 0.8941, 0.8824, 0.0000],\n",
              "          [0.3843, 0.9137, 0.7765, 0.8235, 0.8706, 0.8980, 0.8980, 0.9176,\n",
              "           0.9765, 0.8627, 0.7608, 0.8431, 0.8510, 0.9451, 0.2549, 0.2863,\n",
              "           0.4157, 0.4588, 0.6588, 0.8588, 0.8667, 0.8431, 0.8510, 0.8745,\n",
              "           0.8745, 0.8784, 0.8980, 0.1137],\n",
              "          [0.2941, 0.8000, 0.8314, 0.8000, 0.7569, 0.8039, 0.8275, 0.8824,\n",
              "           0.8471, 0.7255, 0.7725, 0.8078, 0.7765, 0.8353, 0.9412, 0.7647,\n",
              "           0.8902, 0.9608, 0.9373, 0.8745, 0.8549, 0.8314, 0.8196, 0.8706,\n",
              "           0.8627, 0.8667, 0.9020, 0.2627],\n",
              "          [0.1882, 0.7961, 0.7176, 0.7608, 0.8353, 0.7725, 0.7255, 0.7451,\n",
              "           0.7608, 0.7529, 0.7922, 0.8392, 0.8588, 0.8667, 0.8627, 0.9255,\n",
              "           0.8824, 0.8471, 0.7804, 0.8078, 0.7294, 0.7098, 0.6941, 0.6745,\n",
              "           0.7098, 0.8039, 0.8078, 0.4510],\n",
              "          [0.0000, 0.4784, 0.8588, 0.7569, 0.7020, 0.6706, 0.7176, 0.7686,\n",
              "           0.8000, 0.8235, 0.8353, 0.8118, 0.8275, 0.8235, 0.7843, 0.7686,\n",
              "           0.7608, 0.7490, 0.7647, 0.7490, 0.7765, 0.7529, 0.6902, 0.6118,\n",
              "           0.6549, 0.6941, 0.8235, 0.3608],\n",
              "          [0.0000, 0.0000, 0.2902, 0.7412, 0.8314, 0.7490, 0.6863, 0.6745,\n",
              "           0.6863, 0.7098, 0.7255, 0.7373, 0.7412, 0.7373, 0.7569, 0.7765,\n",
              "           0.8000, 0.8196, 0.8235, 0.8235, 0.8275, 0.7373, 0.7373, 0.7608,\n",
              "           0.7529, 0.8471, 0.6667, 0.0000],\n",
              "          [0.0078, 0.0000, 0.0000, 0.0000, 0.2588, 0.7843, 0.8706, 0.9294,\n",
              "           0.9373, 0.9490, 0.9647, 0.9529, 0.9569, 0.8667, 0.8627, 0.7569,\n",
              "           0.7490, 0.7020, 0.7137, 0.7137, 0.7098, 0.6902, 0.6510, 0.6588,\n",
              "           0.3882, 0.2275, 0.0000, 0.0000],\n",
              "          [0.0000, 0.0000, 0.0000, 0.0000, 0.0000, 0.0000, 0.0000, 0.1569,\n",
              "           0.2392, 0.1725, 0.2824, 0.1608, 0.1373, 0.0000, 0.0000, 0.0000,\n",
              "           0.0000, 0.0000, 0.0000, 0.0000, 0.0000, 0.0000, 0.0000, 0.0000,\n",
              "           0.0000, 0.0000, 0.0000, 0.0000],\n",
              "          [0.0000, 0.0000, 0.0000, 0.0000, 0.0000, 0.0000, 0.0000, 0.0000,\n",
              "           0.0000, 0.0000, 0.0000, 0.0000, 0.0000, 0.0000, 0.0000, 0.0000,\n",
              "           0.0000, 0.0000, 0.0000, 0.0000, 0.0000, 0.0000, 0.0000, 0.0000,\n",
              "           0.0000, 0.0000, 0.0000, 0.0000],\n",
              "          [0.0000, 0.0000, 0.0000, 0.0000, 0.0000, 0.0000, 0.0000, 0.0000,\n",
              "           0.0000, 0.0000, 0.0000, 0.0000, 0.0000, 0.0000, 0.0000, 0.0000,\n",
              "           0.0000, 0.0000, 0.0000, 0.0000, 0.0000, 0.0000, 0.0000, 0.0000,\n",
              "           0.0000, 0.0000, 0.0000, 0.0000]]]),\n",
              " 9)"
            ]
          },
          "metadata": {},
          "execution_count": 8
        }
      ]
    },
    {
      "cell_type": "code",
      "source": [
        "plt.imshow(train_dataset[0][0].numpy().reshape(28,28), cmap='gray');"
      ],
      "metadata": {
        "colab": {
          "base_uri": "https://localhost:8080/",
          "height": 430
        },
        "id": "k-Y_jU4M3UsU",
        "outputId": "f130f88e-c141-4915-8666-77719ce77f55"
      },
      "execution_count": 9,
      "outputs": [
        {
          "output_type": "display_data",
          "data": {
            "text/plain": [
              "<Figure size 640x480 with 1 Axes>"
            ],
            "image/png": "[encoded data removed]"
          },
          "metadata": {}
        }
      ]
    },
    {
      "cell_type": "markdown",
      "source": [
        "Создадим модель"
      ],
      "metadata": {
        "id": "m_cKbQT_Idkw"
      }
    },
    {
      "cell_type": "code",
      "execution_count": 44,
      "metadata": {
        "ExecuteTime": {
          "end_time": "2019-11-15T17:14:10.331231Z",
          "start_time": "2019-11-15T17:14:10.321711Z"
        },
        "id": "03bIaRblwwVi"
      },
      "outputs": [],
      "source": [
        "# старая модель, на ней не считаем. Она только для примера. На ее основе создаем новую модель (см. строчку кода ниже)\n",
        "model = nn.Sequential(\n",
        "    nn.Conv2d(1, 6, kernel_size=4, padding=0),\n",
        "    nn.Tanh(),\n",
        "    nn.AvgPool2d(2, stride=2),\n",
        "    nn.Conv2d(6, 16, kernel_size=4),\n",
        "    nn.Tanh(),\n",
        "    nn.AvgPool2d(2, stride=2),\n",
        "    nn.Conv2d(16, 120, kernel_size=4),\n",
        "    nn.Flatten(),\n",
        "    nn.Linear(120, 84),\n",
        "    nn.Tanh(),\n",
        "    nn.Linear(84, 10)\n",
        ")"
      ]
    },
    {
      "cell_type": "code",
      "source": [
        "# улучшим модель\n",
        "model = nn.Sequential(\n",
        "    nn.Conv2d(1, 28, kernel_size=3, padding=1),\n",
        "    nn.BatchNorm2d(28),\n",
        "    nn.ReLU(),\n",
        "    nn.MaxPool2d(2, stride=2),\n",
        "    nn.Conv2d(28, 64, kernel_size=3, padding=1),\n",
        "    nn.BatchNorm2d(64),\n",
        "    nn.ReLU(),\n",
        "    nn.MaxPool2d(2, stride=2),\n",
        "    nn.Flatten(),\n",
        "    nn.Linear(64 * 7 * 7, 120),\n",
        "    nn.BatchNorm1d(120),\n",
        "    nn.ReLU(),\n",
        "    nn.Dropout(0.5),\n",
        "    nn.Linear(120, 10)\n",
        ")"
      ],
      "metadata": {
        "id": "w40SIrcvLOxF"
      },
      "execution_count": 66,
      "outputs": []
    },
    {
      "cell_type": "code",
      "source": [
        "from torchsummary import summary\n",
        "\n",
        "summary(model, input_size=(1, 28, 28), device='cpu')"
      ],
      "metadata": {
        "colab": {
          "base_uri": "https://localhost:8080/"
        },
        "id": "OtEnBJlB_6dQ",
        "outputId": "7e5c46e7-cad9-4fd4-dac8-85c35a8a09b5"
      },
      "execution_count": 67,
      "outputs": [
        {
          "output_type": "stream",
          "name": "stdout",
          "text": [
            "----------------------------------------------------------------\n",
            "        Layer (type)               Output Shape         Param #\n",
            "================================================================\n",
            "            Conv2d-1           [-1, 28, 28, 28]             280\n",
            "       BatchNorm2d-2           [-1, 28, 28, 28]              56\n",
            "              ReLU-3           [-1, 28, 28, 28]               0\n",
            "         MaxPool2d-4           [-1, 28, 14, 14]               0\n",
            "            Conv2d-5           [-1, 64, 14, 14]          16,192\n",
            "       BatchNorm2d-6           [-1, 64, 14, 14]             128\n",
            "              ReLU-7           [-1, 64, 14, 14]               0\n",
            "         MaxPool2d-8             [-1, 64, 7, 7]               0\n",
            "           Flatten-9                 [-1, 3136]               0\n",
            "           Linear-10                  [-1, 120]         376,440\n",
            "      BatchNorm1d-11                  [-1, 120]             240\n",
            "             ReLU-12                  [-1, 120]               0\n",
            "          Dropout-13                  [-1, 120]               0\n",
            "           Linear-14                   [-1, 10]           1,210\n",
            "================================================================\n",
            "Total params: 394,546\n",
            "Trainable params: 394,546\n",
            "Non-trainable params: 0\n",
            "----------------------------------------------------------------\n",
            "Input size (MB): 0.00\n",
            "Forward/backward pass size (MB): 0.88\n",
            "Params size (MB): 1.51\n",
            "Estimated Total Size (MB): 2.39\n",
            "----------------------------------------------------------------\n"
          ]
        }
      ]
    },
    {
      "cell_type": "code",
      "source": [
        "# старая версия кода для старой модели, для новой модели см. строчку кода ниже\n",
        "X = train_dataset[0][0]\n",
        "X = X.reshape(1, 1, 28, 28)\n",
        "print(X.shape)\n",
        "for l in model:\n",
        "    X = l(X)\n",
        "    print(\"Layer {}. X shape: {}\".format(l, X.shape))"
      ],
      "metadata": {
        "id": "7eoCtgF5PqgS"
      },
      "execution_count": null,
      "outputs": []
    },
    {
      "cell_type": "code",
      "source": [
        "# новая версия кода\n",
        "model.eval()  # Важно!\n",
        "X = train_dataset[0][0]\n",
        "X = X.reshape(1, 1, 28, 28)\n",
        "with torch.no_grad():\n",
        "    for l in model:\n",
        "        X = l(X)\n",
        "        print(f\"Layer {l}. X shape: {X.shape}\")"
      ],
      "metadata": {
        "colab": {
          "base_uri": "https://localhost:8080/"
        },
        "id": "NuwXMb-7PMu4",
        "outputId": "55233e8e-cab0-4b7b-fc9d-b6d90473d76d"
      },
      "execution_count": 68,
      "outputs": [
        {
          "output_type": "stream",
          "name": "stdout",
          "text": [
            "Layer Conv2d(1, 28, kernel_size=(3, 3), stride=(1, 1), padding=(1, 1)). X shape: torch.Size([1, 28, 28, 28])\n",
            "Layer BatchNorm2d(28, eps=1e-05, momentum=0.1, affine=True, track_running_stats=True). X shape: torch.Size([1, 28, 28, 28])\n",
            "Layer ReLU(). X shape: torch.Size([1, 28, 28, 28])\n",
            "Layer MaxPool2d(kernel_size=2, stride=2, padding=0, dilation=1, ceil_mode=False). X shape: torch.Size([1, 28, 14, 14])\n",
            "Layer Conv2d(28, 64, kernel_size=(3, 3), stride=(1, 1), padding=(1, 1)). X shape: torch.Size([1, 64, 14, 14])\n",
            "Layer BatchNorm2d(64, eps=1e-05, momentum=0.1, affine=True, track_running_stats=True). X shape: torch.Size([1, 64, 14, 14])\n",
            "Layer ReLU(). X shape: torch.Size([1, 64, 14, 14])\n",
            "Layer MaxPool2d(kernel_size=2, stride=2, padding=0, dilation=1, ceil_mode=False). X shape: torch.Size([1, 64, 7, 7])\n",
            "Layer Flatten(start_dim=1, end_dim=-1). X shape: torch.Size([1, 3136])\n",
            "Layer Linear(in_features=3136, out_features=120, bias=True). X shape: torch.Size([1, 120])\n",
            "Layer BatchNorm1d(120, eps=1e-05, momentum=0.1, affine=True, track_running_stats=True). X shape: torch.Size([1, 120])\n",
            "Layer ReLU(). X shape: torch.Size([1, 120])\n",
            "Layer Dropout(p=0.5, inplace=False). X shape: torch.Size([1, 120])\n",
            "Layer Linear(in_features=120, out_features=10, bias=True). X shape: torch.Size([1, 10])\n"
          ]
        }
      ]
    },
    {
      "cell_type": "code",
      "execution_count": 69,
      "metadata": {
        "ExecuteTime": {
          "end_time": "2019-11-15T17:14:58.504350Z",
          "start_time": "2019-11-15T17:14:58.495676Z"
        },
        "colab": {
          "base_uri": "https://localhost:8080/"
        },
        "id": "j6_CkvdhwwVk",
        "outputId": "d31fa7b9-c77c-49c8-cc06-044c45c19f4f"
      },
      "outputs": [
        {
          "output_type": "stream",
          "name": "stdout",
          "text": [
            "torch.Size([1, 10])\n"
          ]
        }
      ],
      "source": [
        "X = train_dataset[0][0]\n",
        "X = X.reshape(1, 1, 28, 28)\n",
        "y = model(X)\n",
        "print(y.shape)"
      ]
    },
    {
      "cell_type": "code",
      "execution_count": 70,
      "metadata": {
        "ExecuteTime": {
          "end_time": "2019-11-15T17:16:30.193043Z",
          "start_time": "2019-11-15T17:16:30.187953Z"
        },
        "id": "eT7GAboqwwVl"
      },
      "outputs": [],
      "source": [
        "def evaluate_accuracy(data_iter, net):\n",
        "    acc_sum, n = torch.Tensor([0]), 0\n",
        "    for X, y in data_iter:\n",
        "        acc_sum += (net(X).argmax(axis=1) == y).sum()\n",
        "        n += y.shape[0]\n",
        "    return acc_sum.item() / n"
      ]
    },
    {
      "cell_type": "code",
      "execution_count": 71,
      "metadata": {
        "ExecuteTime": {
          "end_time": "2019-11-15T17:17:42.565018Z",
          "start_time": "2019-11-15T17:17:42.555480Z"
        },
        "id": "uHoUxdoAwwVm"
      },
      "outputs": [],
      "source": [
        "def train(net, train_iter, test_iter, optimizer, num_epochs):\n",
        "    loss = nn.CrossEntropyLoss()\n",
        "\n",
        "    for epoch in range(num_epochs):\n",
        "        train_l_sum, train_acc_sum, n, start = 0.0, 0.0, 0, time.time()\n",
        "\n",
        "        for X, y in train_iter:\n",
        "            optimizer.zero_grad()\n",
        "            y_hat = net(X)\n",
        "            l = loss(y_hat, y)\n",
        "            l.backward()\n",
        "            optimizer.step()\n",
        "            train_l_sum += l.item()\n",
        "            train_acc_sum += (y_hat.argmax(axis=1) == y).sum().item()\n",
        "            n += y.shape[0]\n",
        "\n",
        "        test_acc = evaluate_accuracy(test_iter, net)\n",
        "        print(f'epoch {epoch + 1}, loss {train_l_sum / n:.4f}, train acc {train_acc_sum / n:.3f}' \\\n",
        "              f', test acc {test_acc:.3f}, time {time.time() - start:.1f} sec')"
      ]
    },
    {
      "cell_type": "code",
      "execution_count": 72,
      "metadata": {
        "ExecuteTime": {
          "end_time": "2019-11-15T17:18:25.814703Z",
          "start_time": "2019-11-15T17:17:49.114510Z"
        },
        "colab": {
          "base_uri": "https://localhost:8080/"
        },
        "id": "qRiMJlYhwwVm",
        "outputId": "56f2091b-0c35-482c-be42-718e7def2015"
      },
      "outputs": [
        {
          "output_type": "stream",
          "name": "stdout",
          "text": [
            "epoch 1, loss 0.0023, train acc 0.793, test acc 0.847, time 64.3 sec\n",
            "epoch 2, loss 0.0014, train acc 0.873, test acc 0.868, time 67.6 sec\n",
            "epoch 3, loss 0.0012, train acc 0.889, test acc 0.877, time 70.4 sec\n",
            "epoch 4, loss 0.0011, train acc 0.900, test acc 0.883, time 67.3 sec\n",
            "epoch 5, loss 0.0010, train acc 0.907, test acc 0.889, time 67.3 sec\n",
            "epoch 6, loss 0.0009, train acc 0.914, test acc 0.893, time 66.1 sec\n",
            "epoch 7, loss 0.0009, train acc 0.920, test acc 0.898, time 84.0 sec\n",
            "epoch 8, loss 0.0008, train acc 0.925, test acc 0.902, time 117.0 sec\n",
            "epoch 9, loss 0.0008, train acc 0.930, test acc 0.903, time 117.9 sec\n",
            "epoch 10, loss 0.0007, train acc 0.934, test acc 0.907, time 117.4 sec\n"
          ]
        }
      ],
      "source": [
        "lr, num_epochs = 0.001, 10\n",
        "optimizer = torch.optim.Adam(model.parameters(), lr=lr, weight_decay=1e-4)\n",
        "train(model, train_iter, test_iter, optimizer, num_epochs)"
      ]
    },
    {
      "cell_type": "markdown",
      "source": [
        "Итоговое качество (test acc) превысило 90. Но модель считается долго. Попробуем оптимизировать, а также посчитаем на **GPU**"
      ],
      "metadata": {
        "id": "txWdpZc6CJ0A"
      }
    },
    {
      "cell_type": "code",
      "execution_count": 77,
      "metadata": {
        "ExecuteTime": {
          "end_time": "2019-11-14T21:43:43.967577Z",
          "start_time": "2019-11-14T21:43:43.963101Z"
        },
        "colab": {
          "base_uri": "https://localhost:8080/",
          "height": 36
        },
        "id": "AXokXQUzw6Lr",
        "outputId": "77450f99-c8b2-4a6a-ebc9-786260168c19"
      },
      "outputs": [
        {
          "output_type": "execute_result",
          "data": {
            "text/plain": [
              "'cuda'"
            ],
            "application/vnd.google.colaboratory.intrinsic+json": {
              "type": "string"
            }
          },
          "metadata": {},
          "execution_count": 77
        }
      ],
      "source": [
        "device = \"cuda\" if torch.cuda.is_available() else \"cpu\"\n",
        "device"
      ]
    },
    {
      "cell_type": "code",
      "execution_count": 78,
      "metadata": {
        "ExecuteTime": {
          "end_time": "2019-11-14T21:43:43.987680Z",
          "start_time": "2019-11-14T21:43:43.982555Z"
        },
        "id": "3DSc7YPtxClu"
      },
      "outputs": [],
      "source": [
        "model = model.to(device)"
      ]
    },
    {
      "cell_type": "code",
      "source": [
        "def train(net, train_iter, test_iter, optimizer, num_epochs, device):\n",
        "    loss = nn.CrossEntropyLoss()\n",
        "\n",
        "    for epoch in range(num_epochs):\n",
        "        train_l_sum, train_acc_sum, n, start = 0.0, 0.0, 0, time.time()\n",
        "\n",
        "        for X, y in train_iter:\n",
        "            X, y = X.to(device), y.to(device)\n",
        "            optimizer.zero_grad()\n",
        "            y_hat = net(X)\n",
        "            l = loss(y_hat, y)\n",
        "            l.backward()\n",
        "            optimizer.step()\n",
        "            train_l_sum += l.item()\n",
        "            train_acc_sum += (y_hat.argmax(axis=1) == y).sum().item()\n",
        "            n += y.shape[0]\n",
        "\n",
        "        test_acc = evaluate_accuracy(test_iter, net, device)\n",
        "        print(f'epoch {epoch + 1}, loss {train_l_sum / n:.4f}, train acc {train_acc_sum / n:.3f}' \\\n",
        "              f', test acc {test_acc:.3f}, time {time.time() - start:.1f} sec')"
      ],
      "metadata": {
        "id": "lVGNYWP4BpiV"
      },
      "execution_count": 79,
      "outputs": []
    },
    {
      "cell_type": "code",
      "execution_count": 80,
      "metadata": {
        "ExecuteTime": {
          "end_time": "2019-11-14T21:43:44.014332Z",
          "start_time": "2019-11-14T21:43:44.006081Z"
        },
        "id": "luDfZTfjxX3j"
      },
      "outputs": [],
      "source": [
        "def evaluate_accuracy(data_iter, net, device):\n",
        "    acc_sum, n = torch.Tensor([0]).to(device), 0\n",
        "    for X, y in data_iter:\n",
        "        X, y = X.to(device), y.to(device)\n",
        "        acc_sum += (net(X).argmax(axis=1) == y).sum()\n",
        "        n += y.shape[0]\n",
        "    return acc_sum.item() / n"
      ]
    },
    {
      "cell_type": "code",
      "execution_count": 81,
      "metadata": {
        "ExecuteTime": {
          "end_time": "2019-11-14T21:44:50.015770Z",
          "start_time": "2019-11-14T21:43:44.017767Z"
        },
        "colab": {
          "base_uri": "https://localhost:8080/"
        },
        "id": "gRP8hgY1xedj",
        "outputId": "edbe87fd-20ea-4f07-e44f-1622adf933aa"
      },
      "outputs": [
        {
          "output_type": "stream",
          "name": "stdout",
          "text": [
            "epoch 1, loss 0.0007, train acc 0.937, test acc 0.904, time 10.2 sec\n",
            "epoch 2, loss 0.0006, train acc 0.941, test acc 0.902, time 10.9 sec\n",
            "epoch 3, loss 0.0006, train acc 0.945, test acc 0.897, time 9.4 sec\n",
            "epoch 4, loss 0.0005, train acc 0.950, test acc 0.901, time 9.9 sec\n",
            "epoch 5, loss 0.0005, train acc 0.955, test acc 0.902, time 10.0 sec\n",
            "epoch 6, loss 0.0004, train acc 0.960, test acc 0.905, time 10.1 sec\n",
            "epoch 7, loss 0.0004, train acc 0.963, test acc 0.905, time 10.0 sec\n",
            "epoch 8, loss 0.0004, train acc 0.961, test acc 0.905, time 9.6 sec\n",
            "epoch 9, loss 0.0004, train acc 0.961, test acc 0.908, time 9.9 sec\n",
            "epoch 10, loss 0.0004, train acc 0.966, test acc 0.912, time 9.9 sec\n"
          ]
        }
      ],
      "source": [
        "lr, num_epochs = 0.001, 10\n",
        "trainer = torch.optim.Adam(model.parameters(), lr=lr, weight_decay=1e-4)\n",
        "train(model, train_iter, test_iter, trainer, num_epochs, device)"
      ]
    },
    {
      "cell_type": "markdown",
      "source": [
        "После оптимизации модель стала считаться значительно быстрее"
      ],
      "metadata": {
        "id": "oNh5eB20TkXn"
      }
    },
    {
      "cell_type": "markdown",
      "source": [
        "Выводы:\n",
        "1. Построена модель сверточной нейронной сети\n",
        "2. Модель была обучена двумя способами\n",
        "3. Test acc в обоих случаях превысил 0,9"
      ],
      "metadata": {
        "id": "RmZFJuocTqba"
      }
    }
  ]
}